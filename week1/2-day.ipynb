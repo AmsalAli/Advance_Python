{
 "cells": [
  {
   "cell_type": "markdown",
   "metadata": {},
   "source": [
    "# 1. **Map**"
   ]
  },
  {
   "cell_type": "markdown",
   "metadata": {},
   "source": [
    "The map() function in Python is a built-in function that allows you to apply a function to every item in an iterable (or multiple iterables) in a concise and efficient way. Instead of writing explicit loops, you can use map() to process data quickly.\n",
    "\n"
   ]
  },
  {
   "cell_type": "markdown",
   "metadata": {},
   "source": [
    "## **How Does map() Work?**\n"
   ]
  },
  {
   "cell_type": "markdown",
   "metadata": {},
   "source": [
    "```python\n",
    "map(function, iterable, ...)\n",
    "```\n",
    "\n",
    "1. **function**: This is a function that takes one or more arguments. It gets applied to each element of the iterable(s).\n",
    "2. **iterable**: This is a collection (like a list, tuple, etc.) whose elements are processed by the function.\n",
    "- You can pass multiple iterables as additional arguments. If you do, the function must accept as many arguments as there are iterables, and processing stops when the shortest iterable is exhausted.\n",
    "\n",
    "- Returns:\n",
    "**`map()`** returns a map object, which is an iterator that yields the transformed items on demand. If you need a list, you can convert it using the **`list()`** function.\n",
    "\n",
    "\n",
    "## Examples\n",
    "1. **Using map() with a Lambda Function**\\\n",
    "Let’s say you have a list of numbers and you want to square each one:\n",
    "\n",
    "``` python\n",
    "numbers = [1, 2, 3, 4, 5]\n",
    "squares = map(lambda x: x ** 2, numbers)\n",
    "print(list(squares))  # Output: [1, 4, 9, 16, 25]\n",
    "```\n",
    "\n",
    "2. **Using map() with a Regular Function**\n",
    "Define a simple function to double the values:\n",
    "\n",
    "``` python\n",
    "def double(n):\n",
    "    return n * 2\n",
    "\n",
    "nums = [1, 2, 3, 4, 5]\n",
    "doubled = map(double, nums)\n",
    "print(list(doubled))  # Output: [2, 4, 6, 8, 10]\n",
    "```\n",
    "\n",
    "\n",
    "3. **Using map() with Multiple Iterables**\n",
    "You can combine elements from multiple iterables. For instance, if you want to add corresponding elements from two lists:\n",
    "\n",
    "``` python\n",
    "list1 = [1, 2, 3]\n",
    "list2 = [4, 5, 6]\n",
    "\n",
    "result = map(lambda x, y: x + y, list1, list2)\n",
    "print(list(result))  # Output: [5, 7, 9]\n",
    "```\n",
    "\n",
    "## **When to Use map()**\n",
    "- **Readability and Efficiency:**\\\n",
    "Using map() can make your code more concise and expressive for simple operations on iterables.\n",
    "\n",
    "- **Alternatives**:\\\n",
    "A common alternative to map() is a list comprehension:\n",
    "\n",
    "\n",
    "# Using map:\n",
    "``` python\n",
    "result = list(map(lambda x: x ** 2, numbers))\n",
    "```\n",
    "\n",
    "# Using list comprehension:\n",
    "``` python\n",
    "result = [x ** 2 for x in numbers]\n",
    "```\n",
    "\n",
    "Both achieve the same result, so you can choose based on your preference for readability.\\\n",
    "\n",
    "**Key Points to Remember**\\\n",
    "`Lazy Evaluation:`\n",
    "In Python 3, map() returns an iterator that evaluates lazily. This means it doesn't produce all results at once, which can be memory-efficient when working with large datasets.\n",
    "\n",
    "`Multiple Iterables:`\n",
    "If you pass in more than one iterable, map() applies the function in parallel until the shortest iterable is exhausted.\n",
    "\n",
    "`Conversion:`\n",
    "Often you'll convert the returned map object to a list or tuple to see all elements:\n",
    "\n",
    "``` python\n",
    "result_list = list(map(function, iterable))\n",
    "``` \n",
    "\n",
    "Understanding map() will help you write more concise, efficient Python code when you need to apply transformations to collections.\n",
    "\n",
    "\n",
    "\n",
    "\n"
   ]
  },
  {
   "cell_type": "markdown",
   "metadata": {},
   "source": [
    "## **2. Runner-Up Score**"
   ]
  },
  {
   "cell_type": "markdown",
   "metadata": {},
   "source": [
    "## 🧠 The Problem\n",
    "Imagine you have a list of scores (which might include duplicates) and you need to determine the runner-up score—the second highest unique score.\n",
    "\n",
    "`Key Points to Consider:`\n",
    "\n",
    "- **Duplicates**:\\\n",
    "If multiple students have the highest score, the runner-up is the highest score that is lower than the maximum.\n",
    "\n",
    "- **Unique Values**:\\\n",
    "You may want to consider unique scores only. Converting the list to a set can help remove duplicates.\n",
    "\n",
    "- **Sorting**:\\\n",
    "Once you have unique scores, sorting them in descending order allows you to easily pick the second element.\n",
    "\n"
   ]
  },
  {
   "cell_type": "code",
   "execution_count": 11,
   "metadata": {},
   "outputs": [
    {
     "name": "stdout",
     "output_type": "stream",
     "text": [
      "5\n"
     ]
    }
   ],
   "source": [
    "# Input Handling:\n",
    "scores = [2, 3, 6, 6, 5]\n",
    "\n",
    "# Elimination:\n",
    "unique_scores = set(scores)\n",
    "\n",
    "# Sorting:\n",
    "sorted_scores = sorted(unique_scores, reverse=True)\n",
    "sorted_scores\n",
    "\n",
    "# Picking the second highest score:\n",
    "runner_up = sorted_scores[1]\n",
    "print(runner_up)\n"
   ]
  },
  {
   "cell_type": "markdown",
   "metadata": {},
   "source": [
    "# **3. Nested List (Second lowest)**"
   ]
  },
  {
   "cell_type": "code",
   "execution_count": null,
   "metadata": {},
   "outputs": [
    {
     "name": "stdout",
     "output_type": "stream",
     "text": [
      "['Amsal', 'Chandan']\n",
      "90\n"
     ]
    },
    {
     "ename": "AttributeError",
     "evalue": "'int' object has no attribute 'length'",
     "output_type": "error",
     "traceback": [
      "\u001b[1;31m---------------------------------------------------------------------------\u001b[0m",
      "\u001b[1;31mAttributeError\u001b[0m                            Traceback (most recent call last)",
      "Cell \u001b[1;32mIn[53], line 30\u001b[0m\n\u001b[0;32m     26\u001b[0m \u001b[38;5;28mprint\u001b[39m(second_lowest_score_student)\n\u001b[0;32m     28\u001b[0m \u001b[38;5;28mprint\u001b[39m(second_lowest_score)\n\u001b[1;32m---> 30\u001b[0m \u001b[43msecond_lowest_score\u001b[49m\u001b[38;5;241;43m.\u001b[39;49m\u001b[43mlength\u001b[49m\n",
      "\u001b[1;31mAttributeError\u001b[0m: 'int' object has no attribute 'length'"
     ]
    }
   ],
   "source": [
    "# no. of std\n",
    "# name\n",
    "# score\n",
    "# make a nested list\n",
    "# sort\n",
    "# second lowest\n",
    "\n",
    "#n = int(input())\n",
    "student = [['Bilal', 85], ['Amsal', 90], ['Chandan', 90], ['Rohan', 96], ['Amit', 98]]\n",
    "\n",
    "# sort the list by score\n",
    "sorted_students = sorted(student, key=lambda student: (student[1], student[0]))\n",
    "\n",
    "unique_scores = [student[1] for student in sorted_students]\n",
    "\n",
    "second_lowest_score = []\n",
    "\n",
    "if len(unique_scores) > 1:\n",
    "    second_lowest_score = unique_scores[1]\n",
    "else:\n",
    "    second_lowest_score = None\n",
    "    \n",
    "# print the names of students with the second lowest score\n",
    "second_lowest_score_student = [student[0] for student in student if student[1] == second_lowest_score]\n",
    "\n",
    "print(second_lowest_score_student)\n",
    "\n",
    "print(second_lowest_score)\n"
   ]
  },
  {
   "cell_type": "markdown",
   "metadata": {},
   "source": []
  },
  {
   "cell_type": "code",
   "execution_count": 72,
   "metadata": {},
   "outputs": [
    {
     "name": "stdout",
     "output_type": "stream",
     "text": [
      "Unique scores (sorted): [78, 85, 88, 90]\n",
      "Second lowest score: 85\n",
      "Students with the second lowest score: ['Alice', 'Frank']\n"
     ]
    }
   ],
   "source": [
    "# Example nested list: each student is a list with [name, score]\n",
    "students = [\n",
    "    [\"Alice\", 85],\n",
    "    [\"Bob\", 90],\n",
    "    [\"Charlie\", 78],\n",
    "    [\"David\", 90],\n",
    "    [\"Eve\", 88],\n",
    "    [\"Frank\", 85]\n",
    "]\n",
    "\n",
    "# 1. Extract unique scores and sort them\n",
    "unique_scores = sorted({student[1] for student in students})\n",
    "print(\"Unique scores (sorted):\", unique_scores)\n",
    "\n",
    "# 2. Get the second lowest score\n",
    "if len(unique_scores) > 1:\n",
    "    second_lowest = unique_scores[1]\n",
    "    print(\"Second lowest score:\", second_lowest)\n",
    "else:\n",
    "    print(\"Not enough unique scores to determine a second lowest.\")\n",
    "\n",
    "# 3. Filter the students with the second lowest score\n",
    "second_lowest_students = [student[0] for student in students if student[1] == second_lowest]\n",
    "\n",
    "# 4. (Optional) Sort the names alphabetically\n",
    "second_lowest_students = sorted(second_lowest_students)\n",
    "\n",
    "print(\"Students with the second lowest score:\", second_lowest_students)\n"
   ]
  },
  {
   "cell_type": "code",
   "execution_count": 73,
   "metadata": {},
   "outputs": [
    {
     "name": "stdout",
     "output_type": "stream",
     "text": [
      "37.21\n",
      "[['Berry', 37.21], ['Harry', 37.21]]\n",
      "Berry\n",
      "Harry\n"
     ]
    }
   ],
   "source": [
    "if __name__ == '__main__':\n",
    "    # make a list with these names:\n",
    "\n",
    "    student=[['Harry', 37.21], ['Berry', 37.21], ['Tina', 37.2], ['Akriti', 41], ['Harsh', 39]]\n",
    "         \n",
    "        #2. sort the list acc to score\n",
    "    unique_scores = sorted([student[1] for student in student])\n",
    "        \n",
    "        #3. pick the 2nd lowest std\n",
    "    sec_low = unique_scores[1]\n",
    "        \n",
    "    sec_low_std = [student for student in student if student[1] == sec_low]\n",
    "        \n",
    "        #4. print all std\n",
    "    sec_low_std = sorted(sec_low_std, key=lambda student: student[0])\n",
    "        \n",
    "    print(sec_low)\n",
    "    print(sec_low_std)\n",
    "    \n",
    "    #5. Print the names in the form of string not a list\n",
    "    print('\\n'.join([student[0] for student in sec_low_std]))"
   ]
  },
  {
   "cell_type": "code",
   "execution_count": 62,
   "metadata": {},
   "outputs": [
    {
     "name": "stdout",
     "output_type": "stream",
     "text": [
      "[2, 4, 6]\n"
     ]
    }
   ],
   "source": [
    "# 1.  Get even numbers only\n",
    "numbers = [1, 2, 3, 4, 5, 6]\n",
    "y=1\n",
    "\n",
    "even = [x for x in numbers if x%2==0]\n",
    "\n",
    "print(even)"
   ]
  },
  {
   "cell_type": "code",
   "execution_count": null,
   "metadata": {},
   "outputs": [
    {
     "name": "stdout",
     "output_type": "stream",
     "text": [
      "[2, 4, 6]\n"
     ]
    }
   ],
   "source": [
    "# 1.  Get even numbers only\n",
    "numbers = [1, 2, 3, 4, 5, 6]\n",
    "y=1\n",
    "\n",
    "even = [x for x in numbers if x%2==0]\n",
    "\n",
    "print(even)"
   ]
  },
  {
   "cell_type": "code",
   "execution_count": null,
   "metadata": {},
   "outputs": [
    {
     "name": "stdout",
     "output_type": "stream",
     "text": [
      "[2, 4, 6]\n"
     ]
    }
   ],
   "source": [
    "# 1.  Get even numbers only\n",
    "numbers = [1, 2, 3, 4, 5, 6]\n",
    "y=1\n",
    "\n",
    "even = [x for x in numbers if x%2==0]\n",
    "\n",
    "print(even)"
   ]
  },
  {
   "cell_type": "code",
   "execution_count": null,
   "metadata": {},
   "outputs": [
    {
     "name": "stdout",
     "output_type": "stream",
     "text": [
      "[2, 4, 6]\n"
     ]
    }
   ],
   "source": [
    "# 1.  Get even numbers only\n",
    "numbers = [1, 2, 3, 4, 5, 6]\n",
    "y=1\n",
    "\n",
    "even = [x for x in numbers if x%2==0]\n",
    "\n",
    "print(even)"
   ]
  },
  {
   "cell_type": "code",
   "execution_count": null,
   "metadata": {},
   "outputs": [
    {
     "name": "stdout",
     "output_type": "stream",
     "text": [
      "[2, 4, 6]\n"
     ]
    }
   ],
   "source": [
    "# 1.  Get even numbers only\n",
    "numbers = [1, 2, 3, 4, 5, 6]\n",
    "y=1\n",
    "\n",
    "even = [x for x in numbers if x%2==0]\n",
    "\n",
    "print(even)"
   ]
  },
  {
   "cell_type": "code",
   "execution_count": null,
   "metadata": {},
   "outputs": [
    {
     "name": "stdout",
     "output_type": "stream",
     "text": [
      "[2, 4, 6]\n"
     ]
    }
   ],
   "source": [
    "# 1.  Get even numbers only\n",
    "numbers = [1, 2, 3, 4, 5, 6]\n",
    "y=1\n",
    "\n",
    "even = [x for x in numbers if x%2==0]\n",
    "\n",
    "print(even)"
   ]
  },
  {
   "cell_type": "code",
   "execution_count": null,
   "metadata": {},
   "outputs": [
    {
     "name": "stdout",
     "output_type": "stream",
     "text": [
      "[2, 4, 6]\n"
     ]
    }
   ],
   "source": [
    "# 1.  Get even numbers only\n",
    "numbers = [1, 2, 3, 4, 5, 6]\n",
    "y=1\n",
    "\n",
    "even = [x for x in numbers if x%2==0]\n",
    "\n",
    "print(even)"
   ]
  },
  {
   "cell_type": "code",
   "execution_count": null,
   "metadata": {},
   "outputs": [
    {
     "name": "stdout",
     "output_type": "stream",
     "text": [
      "[2, 4, 6]\n"
     ]
    }
   ],
   "source": [
    "# 1.  Get even numbers only\n",
    "numbers = [1, 2, 3, 4, 5, 6]\n",
    "y=1\n",
    "\n",
    "even = [x for x in numbers if x%2==0]\n",
    "\n",
    "print(even)"
   ]
  },
  {
   "cell_type": "code",
   "execution_count": null,
   "metadata": {},
   "outputs": [
    {
     "name": "stdout",
     "output_type": "stream",
     "text": [
      "[2, 4, 6]\n"
     ]
    }
   ],
   "source": [
    "# 1.  Get even numbers only\n",
    "numbers = [1, 2, 3, 4, 5, 6]\n",
    "y=1\n",
    "\n",
    "even = [x for x in numbers if x%2==0]\n",
    "\n",
    "print(even)"
   ]
  },
  {
   "cell_type": "code",
   "execution_count": null,
   "metadata": {},
   "outputs": [
    {
     "name": "stdout",
     "output_type": "stream",
     "text": [
      "[2, 4, 6]\n"
     ]
    }
   ],
   "source": [
    "# 1.  Get even numbers only\n",
    "numbers = [1, 2, 3, 4, 5, 6]\n",
    "y=1\n",
    "\n",
    "even = [x for x in numbers if x%2==0]\n",
    "\n",
    "print(even)"
   ]
  },
  {
   "cell_type": "code",
   "execution_count": null,
   "metadata": {},
   "outputs": [
    {
     "name": "stdout",
     "output_type": "stream",
     "text": [
      "[2, 4, 6]\n"
     ]
    }
   ],
   "source": [
    "# 1.  Get even numbers only\n",
    "numbers = [1, 2, 3, 4, 5, 6]\n",
    "y=1\n",
    "\n",
    "even = [x for x in numbers if x%2==0]\n",
    "\n",
    "print(even)"
   ]
  },
  {
   "cell_type": "code",
   "execution_count": null,
   "metadata": {},
   "outputs": [
    {
     "name": "stdout",
     "output_type": "stream",
     "text": [
      "[2, 4, 6]\n"
     ]
    }
   ],
   "source": [
    "# 1.  Get even numbers only\n",
    "numbers = [1, 2, 3, 4, 5, 6]\n",
    "y=1\n",
    "\n",
    "even = [x for x in numbers if x%2==0]\n",
    "\n",
    "print(even)"
   ]
  },
  {
   "cell_type": "code",
   "execution_count": null,
   "metadata": {},
   "outputs": [
    {
     "name": "stdout",
     "output_type": "stream",
     "text": [
      "[2, 4, 6]\n"
     ]
    }
   ],
   "source": [
    "# 1.  Get even numbers only\n",
    "numbers = [1, 2, 3, 4, 5, 6]\n",
    "y=1\n",
    "\n",
    "even = [x for x in numbers if x%2==0]\n",
    "\n",
    "print(even)"
   ]
  },
  {
   "cell_type": "code",
   "execution_count": null,
   "metadata": {},
   "outputs": [
    {
     "name": "stdout",
     "output_type": "stream",
     "text": [
      "[2, 4, 6]\n"
     ]
    }
   ],
   "source": [
    "# 1.  Get even numbers only\n",
    "numbers = [1, 2, 3, 4, 5, 6]\n",
    "y=1\n",
    "\n",
    "even = [x for x in numbers if x%2==0]\n",
    "\n",
    "print(even)"
   ]
  },
  {
   "cell_type": "code",
   "execution_count": null,
   "metadata": {},
   "outputs": [
    {
     "name": "stdout",
     "output_type": "stream",
     "text": [
      "[2, 4, 6]\n"
     ]
    }
   ],
   "source": [
    "# 1.  Get even numbers only\n",
    "numbers = [1, 2, 3, 4, 5, 6]\n",
    "y=1\n",
    "\n",
    "even = [x for x in numbers if x%2==0]\n",
    "\n",
    "print(even)"
   ]
  },
  {
   "cell_type": "code",
   "execution_count": null,
   "metadata": {},
   "outputs": [
    {
     "name": "stdout",
     "output_type": "stream",
     "text": [
      "['odd', 'even', 'odd', 'even', 'odd', 'even']\n"
     ]
    }
   ],
   "source": [
    "# 2. Label numbers as \"Even\" or \"Odd\"\n",
    "label = ['even' if x%2==0 else 'odd' for x in numbers]\n",
    "print(label)"
   ]
  },
  {
   "cell_type": "markdown",
   "metadata": {},
   "source": [
    "#### 🔹 4. Nested Loops in List Comprehension\n",
    "[expression for x in list1 for y in list2] \\\n",
    "Combine two lists into all pairs\n"
   ]
  },
  {
   "cell_type": "code",
   "execution_count": null,
   "metadata": {},
   "outputs": [
    {
     "name": "stdout",
     "output_type": "stream",
     "text": [
      "[('red', 'pen'), ('red', 'notebook'), ('blue', 'pen'), ('blue', 'notebook')]\n"
     ]
    }
   ],
   "source": [
    "colors = ['red', 'blue']\n",
    "items = ['pen', 'notebook']\n",
    "\n",
    "new = [(c,i) for c in colors for i in items]\n",
    "\n",
    "print(new)"
   ]
  },
  {
   "cell_type": "markdown",
   "metadata": {},
   "source": [
    "#### 🔹 5. List Comprehension with range()\n",
    "Generate squares from 0 to 9"
   ]
  },
  {
   "cell_type": "code",
   "execution_count": null,
   "metadata": {},
   "outputs": [
    {
     "name": "stdout",
     "output_type": "stream",
     "text": [
      "[0, 1, 4, 9, 16, 25, 36, 49, 64, 81]\n"
     ]
    }
   ],
   "source": [
    "squares = [x**2 for x in range(10)]\n",
    "print (squares)"
   ]
  },
  {
   "cell_type": "markdown",
   "metadata": {},
   "source": [
    "#### 🔍 6. Real-Life Example\n",
    "📌 Filter out valid emails:"
   ]
  },
  {
   "cell_type": "code",
   "execution_count": null,
   "metadata": {},
   "outputs": [
    {
     "name": "stdout",
     "output_type": "stream",
     "text": [
      "['alice@example.com', 'charlie@gmail.com']\n"
     ]
    }
   ],
   "source": [
    "emails = [\"alice@example.com\", \"bob@\", \"charlie@gmail.com\"]\n",
    "valid_email = [e for e in emails if \"@\" and '.' in e]\n",
    "\n",
    "print(valid_email)"
   ]
  },
  {
   "cell_type": "markdown",
   "metadata": {},
   "source": [
    "# Exercises"
   ]
  },
  {
   "cell_type": "markdown",
   "metadata": {},
   "source": [
    "#### 🧪 Exercise 1: Double the Numbers\n"
   ]
  },
  {
   "cell_type": "code",
   "execution_count": null,
   "metadata": {},
   "outputs": [
    {
     "name": "stdout",
     "output_type": "stream",
     "text": [
      "[2, 6, 10, 14, 18]\n"
     ]
    }
   ],
   "source": [
    "nums = [1, 3, 5, 7, 9]\n",
    "# 👉 Your Code:\n",
    "\n",
    "double = [x*2 for x in nums]\n",
    "print(double)"
   ]
  },
  {
   "cell_type": "markdown",
   "metadata": {},
   "source": [
    "#### 🧪 Exercise 2: Filter Positive Numbers\n",
    "Problem:\\\n",
    "From this list, create a new list containing only the positive numbers."
   ]
  },
  {
   "cell_type": "code",
   "execution_count": null,
   "metadata": {},
   "outputs": [
    {
     "name": "stdout",
     "output_type": "stream",
     "text": [
      "[2, 5]\n"
     ]
    }
   ],
   "source": [
    "nums = [-4, -1, 0, 2, 5, -6]\n",
    "# 👉 Your Code:\n",
    "\n",
    "pos = [x for x in nums if x > 0]\n",
    "print (pos)"
   ]
  },
  {
   "cell_type": "markdown",
   "metadata": {},
   "source": [
    "#### 🧪 Exercise 3: Even or Odd Labels\n",
    "Problem:\\\n",
    "Create a list that labels each number as \"Even\" or \"Odd\"."
   ]
  },
  {
   "cell_type": "code",
   "execution_count": null,
   "metadata": {},
   "outputs": [
    {
     "name": "stdout",
     "output_type": "stream",
     "text": [
      "['odd', 'Even', 'odd', 'Even', 'odd', 'Even']\n"
     ]
    }
   ],
   "source": [
    "nums = [1, 2, 3, 4, 5]\n",
    "# 👉 Your Code:\n",
    "\n",
    "label = [\"Even\" if x%2==0 else \"odd\" for x in numbers]\n",
    "print(label)"
   ]
  },
  {
   "cell_type": "markdown",
   "metadata": {},
   "source": [
    "#### 🧪 Exercise 4: Square Only Even Numbers\n",
    "Problem:\\\n",
    "Create a list of the squares of even numbers only."
   ]
  },
  {
   "cell_type": "code",
   "execution_count": null,
   "metadata": {},
   "outputs": [
    {
     "name": "stdout",
     "output_type": "stream",
     "text": [
      "[4, 16, 36]\n"
     ]
    }
   ],
   "source": [
    "nums = [1, 2, 3, 4, 5, 6]\n",
    "# 👉 Your Code:\n",
    "\n",
    "square = [x**2 for x in nums if x%2==0] \n",
    "print(square)"
   ]
  },
  {
   "cell_type": "markdown",
   "metadata": {},
   "source": [
    "#### 🧪 Exercise 5: Flatten a 2D List\n",
    "Problem:\\\n",
    "Flatten this list of lists into a single list using list comprehension."
   ]
  },
  {
   "cell_type": "code",
   "execution_count": null,
   "metadata": {},
   "outputs": [
    {
     "name": "stdout",
     "output_type": "stream",
     "text": [
      "[1, 2, 3, 4, 5, 6]\n"
     ]
    }
   ],
   "source": [
    "matrix = [[1, 2], [3, 4], [5, 6]]\n",
    "# 👉 Your Code:\n",
    "\n",
    "flattened = [num for row in matrix for num in row]\n",
    "print(flattened)  # Output: [1, 2, 3, 4, 5, 6]\n"
   ]
  },
  {
   "cell_type": "markdown",
   "metadata": {},
   "source": [
    "✅ Summary:\\\n",
    "Expression\tMeaning\\\n",
    "[x for x in list]\tCopy a list\\\n",
    "[x*2 for x in list]\tModify each item\\\n",
    "[x for x in list if x > 0]\tFilter items\\\n",
    "[\"Yes\" if x else \"No\" for x in a]\tConditional logic in list comprehension\\"
   ]
  },
  {
   "cell_type": "code",
   "execution_count": null,
   "metadata": {},
   "outputs": [],
   "source": []
  },
  {
   "cell_type": "code",
   "execution_count": null,
   "metadata": {},
   "outputs": [],
   "source": []
  },
  {
   "cell_type": "code",
   "execution_count": null,
   "metadata": {},
   "outputs": [
    {
     "name": "stdout",
     "output_type": "stream",
     "text": [
      "['odd', 'even', 'odd', 'even', 'odd', 'even']\n"
     ]
    }
   ],
   "source": [
    "# 2. Label numbers as \"Even\" or \"Odd\"\n",
    "label = ['even' if x%2==0 else 'odd' for x in numbers]\n",
    "print(label)"
   ]
  },
  {
   "cell_type": "markdown",
   "metadata": {},
   "source": [
    "#### 🔹 4. Nested Loops in List Comprehension\n",
    "[expression for x in list1 for y in list2] \\\n",
    "Combine two lists into all pairs\n"
   ]
  },
  {
   "cell_type": "code",
   "execution_count": null,
   "metadata": {},
   "outputs": [
    {
     "name": "stdout",
     "output_type": "stream",
     "text": [
      "[('red', 'pen'), ('red', 'notebook'), ('blue', 'pen'), ('blue', 'notebook')]\n"
     ]
    }
   ],
   "source": [
    "colors = ['red', 'blue']\n",
    "items = ['pen', 'notebook']\n",
    "\n",
    "new = [(c,i) for c in colors for i in items]\n",
    "\n",
    "print(new)"
   ]
  },
  {
   "cell_type": "markdown",
   "metadata": {},
   "source": [
    "#### 🔹 5. List Comprehension with range()\n",
    "Generate squares from 0 to 9"
   ]
  },
  {
   "cell_type": "code",
   "execution_count": null,
   "metadata": {},
   "outputs": [
    {
     "name": "stdout",
     "output_type": "stream",
     "text": [
      "[0, 1, 4, 9, 16, 25, 36, 49, 64, 81]\n"
     ]
    }
   ],
   "source": [
    "squares = [x**2 for x in range(10)]\n",
    "print (squares)"
   ]
  },
  {
   "cell_type": "markdown",
   "metadata": {},
   "source": [
    "#### 🔍 6. Real-Life Example\n",
    "📌 Filter out valid emails:"
   ]
  },
  {
   "cell_type": "code",
   "execution_count": null,
   "metadata": {},
   "outputs": [
    {
     "name": "stdout",
     "output_type": "stream",
     "text": [
      "['alice@example.com', 'charlie@gmail.com']\n"
     ]
    }
   ],
   "source": [
    "emails = [\"alice@example.com\", \"bob@\", \"charlie@gmail.com\"]\n",
    "valid_email = [e for e in emails if \"@\" and '.' in e]\n",
    "\n",
    "print(valid_email)"
   ]
  },
  {
   "cell_type": "markdown",
   "metadata": {},
   "source": [
    "# Exercises"
   ]
  },
  {
   "cell_type": "markdown",
   "metadata": {},
   "source": [
    "#### 🧪 Exercise 1: Double the Numbers\n"
   ]
  },
  {
   "cell_type": "code",
   "execution_count": null,
   "metadata": {},
   "outputs": [
    {
     "name": "stdout",
     "output_type": "stream",
     "text": [
      "[2, 6, 10, 14, 18]\n"
     ]
    }
   ],
   "source": [
    "nums = [1, 3, 5, 7, 9]\n",
    "# 👉 Your Code:\n",
    "\n",
    "double = [x*2 for x in nums]\n",
    "print(double)"
   ]
  },
  {
   "cell_type": "markdown",
   "metadata": {},
   "source": [
    "#### 🧪 Exercise 2: Filter Positive Numbers\n",
    "Problem:\\\n",
    "From this list, create a new list containing only the positive numbers."
   ]
  },
  {
   "cell_type": "code",
   "execution_count": null,
   "metadata": {},
   "outputs": [
    {
     "name": "stdout",
     "output_type": "stream",
     "text": [
      "[2, 5]\n"
     ]
    }
   ],
   "source": [
    "nums = [-4, -1, 0, 2, 5, -6]\n",
    "# 👉 Your Code:\n",
    "\n",
    "pos = [x for x in nums if x > 0]\n",
    "print (pos)"
   ]
  },
  {
   "cell_type": "markdown",
   "metadata": {},
   "source": [
    "#### 🧪 Exercise 3: Even or Odd Labels\n",
    "Problem:\\\n",
    "Create a list that labels each number as \"Even\" or \"Odd\"."
   ]
  },
  {
   "cell_type": "code",
   "execution_count": null,
   "metadata": {},
   "outputs": [
    {
     "name": "stdout",
     "output_type": "stream",
     "text": [
      "['odd', 'Even', 'odd', 'Even', 'odd', 'Even']\n"
     ]
    }
   ],
   "source": [
    "nums = [1, 2, 3, 4, 5]\n",
    "# 👉 Your Code:\n",
    "\n",
    "label = [\"Even\" if x%2==0 else \"odd\" for x in numbers]\n",
    "print(label)"
   ]
  },
  {
   "cell_type": "markdown",
   "metadata": {},
   "source": [
    "#### 🧪 Exercise 4: Square Only Even Numbers\n",
    "Problem:\\\n",
    "Create a list of the squares of even numbers only."
   ]
  },
  {
   "cell_type": "code",
   "execution_count": null,
   "metadata": {},
   "outputs": [
    {
     "name": "stdout",
     "output_type": "stream",
     "text": [
      "[4, 16, 36]\n"
     ]
    }
   ],
   "source": [
    "nums = [1, 2, 3, 4, 5, 6]\n",
    "# 👉 Your Code:\n",
    "\n",
    "square = [x**2 for x in nums if x%2==0] \n",
    "print(square)"
   ]
  },
  {
   "cell_type": "markdown",
   "metadata": {},
   "source": [
    "#### 🧪 Exercise 5: Flatten a 2D List\n",
    "Problem:\\\n",
    "Flatten this list of lists into a single list using list comprehension."
   ]
  },
  {
   "cell_type": "code",
   "execution_count": null,
   "metadata": {},
   "outputs": [
    {
     "name": "stdout",
     "output_type": "stream",
     "text": [
      "[1, 2, 3, 4, 5, 6]\n"
     ]
    }
   ],
   "source": [
    "matrix = [[1, 2], [3, 4], [5, 6]]\n",
    "# 👉 Your Code:\n",
    "\n",
    "flattened = [num for row in matrix for num in row]\n",
    "print(flattened)  # Output: [1, 2, 3, 4, 5, 6]\n"
   ]
  },
  {
   "cell_type": "markdown",
   "metadata": {},
   "source": [
    "✅ Summary:\\\n",
    "Expression\tMeaning\\\n",
    "[x for x in list]\tCopy a list\\\n",
    "[x*2 for x in list]\tModify each item\\\n",
    "[x for x in list if x > 0]\tFilter items\\\n",
    "[\"Yes\" if x else \"No\" for x in a]\tConditional logic in list comprehension\\"
   ]
  },
  {
   "cell_type": "code",
   "execution_count": null,
   "metadata": {},
   "outputs": [],
   "source": []
  },
  {
   "cell_type": "code",
   "execution_count": null,
   "metadata": {},
   "outputs": [],
   "source": []
  },
  {
   "cell_type": "code",
   "execution_count": null,
   "metadata": {},
   "outputs": [
    {
     "name": "stdout",
     "output_type": "stream",
     "text": [
      "['odd', 'even', 'odd', 'even', 'odd', 'even']\n"
     ]
    }
   ],
   "source": [
    "# 2. Label numbers as \"Even\" or \"Odd\"\n",
    "label = ['even' if x%2==0 else 'odd' for x in numbers]\n",
    "print(label)"
   ]
  },
  {
   "cell_type": "markdown",
   "metadata": {},
   "source": [
    "#### 🔹 4. Nested Loops in List Comprehension\n",
    "[expression for x in list1 for y in list2] \\\n",
    "Combine two lists into all pairs\n"
   ]
  },
  {
   "cell_type": "code",
   "execution_count": null,
   "metadata": {},
   "outputs": [
    {
     "name": "stdout",
     "output_type": "stream",
     "text": [
      "[('red', 'pen'), ('red', 'notebook'), ('blue', 'pen'), ('blue', 'notebook')]\n"
     ]
    }
   ],
   "source": [
    "colors = ['red', 'blue']\n",
    "items = ['pen', 'notebook']\n",
    "\n",
    "new = [(c,i) for c in colors for i in items]\n",
    "\n",
    "print(new)"
   ]
  },
  {
   "cell_type": "markdown",
   "metadata": {},
   "source": [
    "#### 🔹 5. List Comprehension with range()\n",
    "Generate squares from 0 to 9"
   ]
  },
  {
   "cell_type": "code",
   "execution_count": null,
   "metadata": {},
   "outputs": [
    {
     "name": "stdout",
     "output_type": "stream",
     "text": [
      "[0, 1, 4, 9, 16, 25, 36, 49, 64, 81]\n"
     ]
    }
   ],
   "source": [
    "squares = [x**2 for x in range(10)]\n",
    "print (squares)"
   ]
  },
  {
   "cell_type": "markdown",
   "metadata": {},
   "source": [
    "#### 🔍 6. Real-Life Example\n",
    "📌 Filter out valid emails:"
   ]
  },
  {
   "cell_type": "code",
   "execution_count": null,
   "metadata": {},
   "outputs": [
    {
     "name": "stdout",
     "output_type": "stream",
     "text": [
      "['alice@example.com', 'charlie@gmail.com']\n"
     ]
    }
   ],
   "source": [
    "emails = [\"alice@example.com\", \"bob@\", \"charlie@gmail.com\"]\n",
    "valid_email = [e for e in emails if \"@\" and '.' in e]\n",
    "\n",
    "print(valid_email)"
   ]
  },
  {
   "cell_type": "markdown",
   "metadata": {},
   "source": [
    "# Exercises"
   ]
  },
  {
   "cell_type": "markdown",
   "metadata": {},
   "source": [
    "#### 🧪 Exercise 1: Double the Numbers\n"
   ]
  },
  {
   "cell_type": "code",
   "execution_count": null,
   "metadata": {},
   "outputs": [
    {
     "name": "stdout",
     "output_type": "stream",
     "text": [
      "[2, 6, 10, 14, 18]\n"
     ]
    }
   ],
   "source": [
    "nums = [1, 3, 5, 7, 9]\n",
    "# 👉 Your Code:\n",
    "\n",
    "double = [x*2 for x in nums]\n",
    "print(double)"
   ]
  },
  {
   "cell_type": "markdown",
   "metadata": {},
   "source": [
    "#### 🧪 Exercise 2: Filter Positive Numbers\n",
    "Problem:\\\n",
    "From this list, create a new list containing only the positive numbers."
   ]
  },
  {
   "cell_type": "code",
   "execution_count": null,
   "metadata": {},
   "outputs": [
    {
     "name": "stdout",
     "output_type": "stream",
     "text": [
      "[2, 5]\n"
     ]
    }
   ],
   "source": [
    "nums = [-4, -1, 0, 2, 5, -6]\n",
    "# 👉 Your Code:\n",
    "\n",
    "pos = [x for x in nums if x > 0]\n",
    "print (pos)"
   ]
  },
  {
   "cell_type": "markdown",
   "metadata": {},
   "source": [
    "#### 🧪 Exercise 3: Even or Odd Labels\n",
    "Problem:\\\n",
    "Create a list that labels each number as \"Even\" or \"Odd\"."
   ]
  },
  {
   "cell_type": "code",
   "execution_count": null,
   "metadata": {},
   "outputs": [
    {
     "name": "stdout",
     "output_type": "stream",
     "text": [
      "['odd', 'Even', 'odd', 'Even', 'odd', 'Even']\n"
     ]
    }
   ],
   "source": [
    "nums = [1, 2, 3, 4, 5]\n",
    "# 👉 Your Code:\n",
    "\n",
    "label = [\"Even\" if x%2==0 else \"odd\" for x in numbers]\n",
    "print(label)"
   ]
  },
  {
   "cell_type": "markdown",
   "metadata": {},
   "source": [
    "#### 🧪 Exercise 4: Square Only Even Numbers\n",
    "Problem:\\\n",
    "Create a list of the squares of even numbers only."
   ]
  },
  {
   "cell_type": "code",
   "execution_count": null,
   "metadata": {},
   "outputs": [
    {
     "name": "stdout",
     "output_type": "stream",
     "text": [
      "[4, 16, 36]\n"
     ]
    }
   ],
   "source": [
    "nums = [1, 2, 3, 4, 5, 6]\n",
    "# 👉 Your Code:\n",
    "\n",
    "square = [x**2 for x in nums if x%2==0] \n",
    "print(square)"
   ]
  },
  {
   "cell_type": "markdown",
   "metadata": {},
   "source": [
    "#### 🧪 Exercise 5: Flatten a 2D List\n",
    "Problem:\\\n",
    "Flatten this list of lists into a single list using list comprehension."
   ]
  },
  {
   "cell_type": "code",
   "execution_count": null,
   "metadata": {},
   "outputs": [
    {
     "name": "stdout",
     "output_type": "stream",
     "text": [
      "[1, 2, 3, 4, 5, 6]\n"
     ]
    }
   ],
   "source": [
    "matrix = [[1, 2], [3, 4], [5, 6]]\n",
    "# 👉 Your Code:\n",
    "\n",
    "flattened = [num for row in matrix for num in row]\n",
    "print(flattened)  # Output: [1, 2, 3, 4, 5, 6]\n"
   ]
  },
  {
   "cell_type": "markdown",
   "metadata": {},
   "source": [
    "✅ Summary:\\\n",
    "Expression\tMeaning\\\n",
    "[x for x in list]\tCopy a list\\\n",
    "[x*2 for x in list]\tModify each item\\\n",
    "[x for x in list if x > 0]\tFilter items\\\n",
    "[\"Yes\" if x else \"No\" for x in a]\tConditional logic in list comprehension\\"
   ]
  },
  {
   "cell_type": "code",
   "execution_count": null,
   "metadata": {},
   "outputs": [],
   "source": []
  },
  {
   "cell_type": "code",
   "execution_count": null,
   "metadata": {},
   "outputs": [],
   "source": []
  },
  {
   "cell_type": "code",
   "execution_count": null,
   "metadata": {},
   "outputs": [
    {
     "name": "stdout",
     "output_type": "stream",
     "text": [
      "['odd', 'even', 'odd', 'even', 'odd', 'even']\n"
     ]
    }
   ],
   "source": [
    "# 2. Label numbers as \"Even\" or \"Odd\"\n",
    "label = ['even' if x%2==0 else 'odd' for x in numbers]\n",
    "print(label)"
   ]
  },
  {
   "cell_type": "markdown",
   "metadata": {},
   "source": [
    "#### 🔹 4. Nested Loops in List Comprehension\n",
    "[expression for x in list1 for y in list2] \\\n",
    "Combine two lists into all pairs\n"
   ]
  },
  {
   "cell_type": "code",
   "execution_count": null,
   "metadata": {},
   "outputs": [
    {
     "name": "stdout",
     "output_type": "stream",
     "text": [
      "[('red', 'pen'), ('red', 'notebook'), ('blue', 'pen'), ('blue', 'notebook')]\n"
     ]
    }
   ],
   "source": [
    "colors = ['red', 'blue']\n",
    "items = ['pen', 'notebook']\n",
    "\n",
    "new = [(c,i) for c in colors for i in items]\n",
    "\n",
    "print(new)"
   ]
  },
  {
   "cell_type": "markdown",
   "metadata": {},
   "source": [
    "#### 🔹 5. List Comprehension with range()\n",
    "Generate squares from 0 to 9"
   ]
  },
  {
   "cell_type": "code",
   "execution_count": null,
   "metadata": {},
   "outputs": [
    {
     "name": "stdout",
     "output_type": "stream",
     "text": [
      "[0, 1, 4, 9, 16, 25, 36, 49, 64, 81]\n"
     ]
    }
   ],
   "source": [
    "squares = [x**2 for x in range(10)]\n",
    "print (squares)"
   ]
  },
  {
   "cell_type": "markdown",
   "metadata": {},
   "source": [
    "#### 🔍 6. Real-Life Example\n",
    "📌 Filter out valid emails:"
   ]
  },
  {
   "cell_type": "code",
   "execution_count": null,
   "metadata": {},
   "outputs": [
    {
     "name": "stdout",
     "output_type": "stream",
     "text": [
      "['alice@example.com', 'charlie@gmail.com']\n"
     ]
    }
   ],
   "source": [
    "emails = [\"alice@example.com\", \"bob@\", \"charlie@gmail.com\"]\n",
    "valid_email = [e for e in emails if \"@\" and '.' in e]\n",
    "\n",
    "print(valid_email)"
   ]
  },
  {
   "cell_type": "markdown",
   "metadata": {},
   "source": [
    "# Exercises"
   ]
  },
  {
   "cell_type": "markdown",
   "metadata": {},
   "source": [
    "#### 🧪 Exercise 1: Double the Numbers\n"
   ]
  },
  {
   "cell_type": "code",
   "execution_count": null,
   "metadata": {},
   "outputs": [
    {
     "name": "stdout",
     "output_type": "stream",
     "text": [
      "[2, 6, 10, 14, 18]\n"
     ]
    }
   ],
   "source": [
    "nums = [1, 3, 5, 7, 9]\n",
    "# 👉 Your Code:\n",
    "\n",
    "double = [x*2 for x in nums]\n",
    "print(double)"
   ]
  },
  {
   "cell_type": "markdown",
   "metadata": {},
   "source": [
    "#### 🧪 Exercise 2: Filter Positive Numbers\n",
    "Problem:\\\n",
    "From this list, create a new list containing only the positive numbers."
   ]
  },
  {
   "cell_type": "code",
   "execution_count": null,
   "metadata": {},
   "outputs": [
    {
     "name": "stdout",
     "output_type": "stream",
     "text": [
      "[2, 5]\n"
     ]
    }
   ],
   "source": [
    "nums = [-4, -1, 0, 2, 5, -6]\n",
    "# 👉 Your Code:\n",
    "\n",
    "pos = [x for x in nums if x > 0]\n",
    "print (pos)"
   ]
  },
  {
   "cell_type": "markdown",
   "metadata": {},
   "source": [
    "#### 🧪 Exercise 3: Even or Odd Labels\n",
    "Problem:\\\n",
    "Create a list that labels each number as \"Even\" or \"Odd\"."
   ]
  },
  {
   "cell_type": "code",
   "execution_count": null,
   "metadata": {},
   "outputs": [
    {
     "name": "stdout",
     "output_type": "stream",
     "text": [
      "['odd', 'Even', 'odd', 'Even', 'odd', 'Even']\n"
     ]
    }
   ],
   "source": [
    "nums = [1, 2, 3, 4, 5]\n",
    "# 👉 Your Code:\n",
    "\n",
    "label = [\"Even\" if x%2==0 else \"odd\" for x in numbers]\n",
    "print(label)"
   ]
  },
  {
   "cell_type": "markdown",
   "metadata": {},
   "source": [
    "#### 🧪 Exercise 4: Square Only Even Numbers\n",
    "Problem:\\\n",
    "Create a list of the squares of even numbers only."
   ]
  },
  {
   "cell_type": "code",
   "execution_count": null,
   "metadata": {},
   "outputs": [
    {
     "name": "stdout",
     "output_type": "stream",
     "text": [
      "[4, 16, 36]\n"
     ]
    }
   ],
   "source": [
    "nums = [1, 2, 3, 4, 5, 6]\n",
    "# 👉 Your Code:\n",
    "\n",
    "square = [x**2 for x in nums if x%2==0] \n",
    "print(square)"
   ]
  },
  {
   "cell_type": "markdown",
   "metadata": {},
   "source": [
    "#### 🧪 Exercise 5: Flatten a 2D List\n",
    "Problem:\\\n",
    "Flatten this list of lists into a single list using list comprehension."
   ]
  },
  {
   "cell_type": "code",
   "execution_count": null,
   "metadata": {},
   "outputs": [
    {
     "name": "stdout",
     "output_type": "stream",
     "text": [
      "[1, 2, 3, 4, 5, 6]\n"
     ]
    }
   ],
   "source": [
    "matrix = [[1, 2], [3, 4], [5, 6]]\n",
    "# 👉 Your Code:\n",
    "\n",
    "flattened = [num for row in matrix for num in row]\n",
    "print(flattened)  # Output: [1, 2, 3, 4, 5, 6]\n"
   ]
  },
  {
   "cell_type": "markdown",
   "metadata": {},
   "source": [
    "✅ Summary:\\\n",
    "Expression\tMeaning\\\n",
    "[x for x in list]\tCopy a list\\\n",
    "[x*2 for x in list]\tModify each item\\\n",
    "[x for x in list if x > 0]\tFilter items\\\n",
    "[\"Yes\" if x else \"No\" for x in a]\tConditional logic in list comprehension\\"
   ]
  },
  {
   "cell_type": "code",
   "execution_count": null,
   "metadata": {},
   "outputs": [],
   "source": []
  },
  {
   "cell_type": "code",
   "execution_count": null,
   "metadata": {},
   "outputs": [],
   "source": []
  },
  {
   "cell_type": "code",
   "execution_count": null,
   "metadata": {},
   "outputs": [
    {
     "name": "stdout",
     "output_type": "stream",
     "text": [
      "['odd', 'even', 'odd', 'even', 'odd', 'even']\n"
     ]
    }
   ],
   "source": [
    "# 2. Label numbers as \"Even\" or \"Odd\"\n",
    "label = ['even' if x%2==0 else 'odd' for x in numbers]\n",
    "print(label)"
   ]
  },
  {
   "cell_type": "markdown",
   "metadata": {},
   "source": [
    "#### 🔹 4. Nested Loops in List Comprehension\n",
    "[expression for x in list1 for y in list2] \\\n",
    "Combine two lists into all pairs\n"
   ]
  },
  {
   "cell_type": "code",
   "execution_count": null,
   "metadata": {},
   "outputs": [
    {
     "name": "stdout",
     "output_type": "stream",
     "text": [
      "[('red', 'pen'), ('red', 'notebook'), ('blue', 'pen'), ('blue', 'notebook')]\n"
     ]
    }
   ],
   "source": [
    "colors = ['red', 'blue']\n",
    "items = ['pen', 'notebook']\n",
    "\n",
    "new = [(c,i) for c in colors for i in items]\n",
    "\n",
    "print(new)"
   ]
  },
  {
   "cell_type": "markdown",
   "metadata": {},
   "source": [
    "#### 🔹 5. List Comprehension with range()\n",
    "Generate squares from 0 to 9"
   ]
  },
  {
   "cell_type": "code",
   "execution_count": null,
   "metadata": {},
   "outputs": [
    {
     "name": "stdout",
     "output_type": "stream",
     "text": [
      "[0, 1, 4, 9, 16, 25, 36, 49, 64, 81]\n"
     ]
    }
   ],
   "source": [
    "squares = [x**2 for x in range(10)]\n",
    "print (squares)"
   ]
  },
  {
   "cell_type": "markdown",
   "metadata": {},
   "source": [
    "#### 🔍 6. Real-Life Example\n",
    "📌 Filter out valid emails:"
   ]
  },
  {
   "cell_type": "code",
   "execution_count": null,
   "metadata": {},
   "outputs": [
    {
     "name": "stdout",
     "output_type": "stream",
     "text": [
      "['alice@example.com', 'charlie@gmail.com']\n"
     ]
    }
   ],
   "source": [
    "emails = [\"alice@example.com\", \"bob@\", \"charlie@gmail.com\"]\n",
    "valid_email = [e for e in emails if \"@\" and '.' in e]\n",
    "\n",
    "print(valid_email)"
   ]
  },
  {
   "cell_type": "markdown",
   "metadata": {},
   "source": [
    "# Exercises"
   ]
  },
  {
   "cell_type": "markdown",
   "metadata": {},
   "source": [
    "#### 🧪 Exercise 1: Double the Numbers\n"
   ]
  },
  {
   "cell_type": "code",
   "execution_count": null,
   "metadata": {},
   "outputs": [
    {
     "name": "stdout",
     "output_type": "stream",
     "text": [
      "[2, 6, 10, 14, 18]\n"
     ]
    }
   ],
   "source": [
    "nums = [1, 3, 5, 7, 9]\n",
    "# 👉 Your Code:\n",
    "\n",
    "double = [x*2 for x in nums]\n",
    "print(double)"
   ]
  },
  {
   "cell_type": "markdown",
   "metadata": {},
   "source": [
    "#### 🧪 Exercise 2: Filter Positive Numbers\n",
    "Problem:\\\n",
    "From this list, create a new list containing only the positive numbers."
   ]
  },
  {
   "cell_type": "code",
   "execution_count": null,
   "metadata": {},
   "outputs": [
    {
     "name": "stdout",
     "output_type": "stream",
     "text": [
      "[2, 5]\n"
     ]
    }
   ],
   "source": [
    "nums = [-4, -1, 0, 2, 5, -6]\n",
    "# 👉 Your Code:\n",
    "\n",
    "pos = [x for x in nums if x > 0]\n",
    "print (pos)"
   ]
  },
  {
   "cell_type": "markdown",
   "metadata": {},
   "source": [
    "#### 🧪 Exercise 3: Even or Odd Labels\n",
    "Problem:\\\n",
    "Create a list that labels each number as \"Even\" or \"Odd\"."
   ]
  },
  {
   "cell_type": "code",
   "execution_count": null,
   "metadata": {},
   "outputs": [
    {
     "name": "stdout",
     "output_type": "stream",
     "text": [
      "['odd', 'Even', 'odd', 'Even', 'odd', 'Even']\n"
     ]
    }
   ],
   "source": [
    "nums = [1, 2, 3, 4, 5]\n",
    "# 👉 Your Code:\n",
    "\n",
    "label = [\"Even\" if x%2==0 else \"odd\" for x in numbers]\n",
    "print(label)"
   ]
  },
  {
   "cell_type": "markdown",
   "metadata": {},
   "source": [
    "#### 🧪 Exercise 4: Square Only Even Numbers\n",
    "Problem:\\\n",
    "Create a list of the squares of even numbers only."
   ]
  },
  {
   "cell_type": "code",
   "execution_count": null,
   "metadata": {},
   "outputs": [
    {
     "name": "stdout",
     "output_type": "stream",
     "text": [
      "[4, 16, 36]\n"
     ]
    }
   ],
   "source": [
    "nums = [1, 2, 3, 4, 5, 6]\n",
    "# 👉 Your Code:\n",
    "\n",
    "square = [x**2 for x in nums if x%2==0] \n",
    "print(square)"
   ]
  },
  {
   "cell_type": "markdown",
   "metadata": {},
   "source": [
    "#### 🧪 Exercise 5: Flatten a 2D List\n",
    "Problem:\\\n",
    "Flatten this list of lists into a single list using list comprehension."
   ]
  },
  {
   "cell_type": "code",
   "execution_count": null,
   "metadata": {},
   "outputs": [
    {
     "name": "stdout",
     "output_type": "stream",
     "text": [
      "[1, 2, 3, 4, 5, 6]\n"
     ]
    }
   ],
   "source": [
    "matrix = [[1, 2], [3, 4], [5, 6]]\n",
    "# 👉 Your Code:\n",
    "\n",
    "flattened = [num for row in matrix for num in row]\n",
    "print(flattened)  # Output: [1, 2, 3, 4, 5, 6]\n"
   ]
  },
  {
   "cell_type": "markdown",
   "metadata": {},
   "source": [
    "✅ Summary:\\\n",
    "Expression\tMeaning\\\n",
    "[x for x in list]\tCopy a list\\\n",
    "[x*2 for x in list]\tModify each item\\\n",
    "[x for x in list if x > 0]\tFilter items\\\n",
    "[\"Yes\" if x else \"No\" for x in a]\tConditional logic in list comprehension\\"
   ]
  },
  {
   "cell_type": "code",
   "execution_count": null,
   "metadata": {},
   "outputs": [],
   "source": []
  },
  {
   "cell_type": "code",
   "execution_count": null,
   "metadata": {},
   "outputs": [],
   "source": []
  },
  {
   "cell_type": "code",
   "execution_count": null,
   "metadata": {},
   "outputs": [
    {
     "name": "stdout",
     "output_type": "stream",
     "text": [
      "['odd', 'even', 'odd', 'even', 'odd', 'even']\n"
     ]
    }
   ],
   "source": [
    "# 2. Label numbers as \"Even\" or \"Odd\"\n",
    "label = ['even' if x%2==0 else 'odd' for x in numbers]\n",
    "print(label)"
   ]
  },
  {
   "cell_type": "markdown",
   "metadata": {},
   "source": [
    "#### 🔹 4. Nested Loops in List Comprehension\n",
    "[expression for x in list1 for y in list2] \\\n",
    "Combine two lists into all pairs\n"
   ]
  },
  {
   "cell_type": "code",
   "execution_count": null,
   "metadata": {},
   "outputs": [
    {
     "name": "stdout",
     "output_type": "stream",
     "text": [
      "[('red', 'pen'), ('red', 'notebook'), ('blue', 'pen'), ('blue', 'notebook')]\n"
     ]
    }
   ],
   "source": [
    "colors = ['red', 'blue']\n",
    "items = ['pen', 'notebook']\n",
    "\n",
    "new = [(c,i) for c in colors for i in items]\n",
    "\n",
    "print(new)"
   ]
  },
  {
   "cell_type": "markdown",
   "metadata": {},
   "source": [
    "#### 🔹 5. List Comprehension with range()\n",
    "Generate squares from 0 to 9"
   ]
  },
  {
   "cell_type": "code",
   "execution_count": null,
   "metadata": {},
   "outputs": [
    {
     "name": "stdout",
     "output_type": "stream",
     "text": [
      "[0, 1, 4, 9, 16, 25, 36, 49, 64, 81]\n"
     ]
    }
   ],
   "source": [
    "squares = [x**2 for x in range(10)]\n",
    "print (squares)"
   ]
  },
  {
   "cell_type": "markdown",
   "metadata": {},
   "source": [
    "#### 🔍 6. Real-Life Example\n",
    "📌 Filter out valid emails:"
   ]
  },
  {
   "cell_type": "code",
   "execution_count": null,
   "metadata": {},
   "outputs": [
    {
     "name": "stdout",
     "output_type": "stream",
     "text": [
      "['alice@example.com', 'charlie@gmail.com']\n"
     ]
    }
   ],
   "source": [
    "emails = [\"alice@example.com\", \"bob@\", \"charlie@gmail.com\"]\n",
    "valid_email = [e for e in emails if \"@\" and '.' in e]\n",
    "\n",
    "print(valid_email)"
   ]
  },
  {
   "cell_type": "markdown",
   "metadata": {},
   "source": [
    "# Exercises"
   ]
  },
  {
   "cell_type": "markdown",
   "metadata": {},
   "source": [
    "#### 🧪 Exercise 1: Double the Numbers\n"
   ]
  },
  {
   "cell_type": "code",
   "execution_count": null,
   "metadata": {},
   "outputs": [
    {
     "name": "stdout",
     "output_type": "stream",
     "text": [
      "[2, 6, 10, 14, 18]\n"
     ]
    }
   ],
   "source": [
    "nums = [1, 3, 5, 7, 9]\n",
    "# 👉 Your Code:\n",
    "\n",
    "double = [x*2 for x in nums]\n",
    "print(double)"
   ]
  },
  {
   "cell_type": "markdown",
   "metadata": {},
   "source": [
    "#### 🧪 Exercise 2: Filter Positive Numbers\n",
    "Problem:\\\n",
    "From this list, create a new list containing only the positive numbers."
   ]
  },
  {
   "cell_type": "code",
   "execution_count": null,
   "metadata": {},
   "outputs": [
    {
     "name": "stdout",
     "output_type": "stream",
     "text": [
      "[2, 5]\n"
     ]
    }
   ],
   "source": [
    "nums = [-4, -1, 0, 2, 5, -6]\n",
    "# 👉 Your Code:\n",
    "\n",
    "pos = [x for x in nums if x > 0]\n",
    "print (pos)"
   ]
  },
  {
   "cell_type": "markdown",
   "metadata": {},
   "source": [
    "#### 🧪 Exercise 3: Even or Odd Labels\n",
    "Problem:\\\n",
    "Create a list that labels each number as \"Even\" or \"Odd\"."
   ]
  },
  {
   "cell_type": "code",
   "execution_count": null,
   "metadata": {},
   "outputs": [
    {
     "name": "stdout",
     "output_type": "stream",
     "text": [
      "['odd', 'Even', 'odd', 'Even', 'odd', 'Even']\n"
     ]
    }
   ],
   "source": [
    "nums = [1, 2, 3, 4, 5]\n",
    "# 👉 Your Code:\n",
    "\n",
    "label = [\"Even\" if x%2==0 else \"odd\" for x in numbers]\n",
    "print(label)"
   ]
  },
  {
   "cell_type": "markdown",
   "metadata": {},
   "source": [
    "#### 🧪 Exercise 4: Square Only Even Numbers\n",
    "Problem:\\\n",
    "Create a list of the squares of even numbers only."
   ]
  },
  {
   "cell_type": "code",
   "execution_count": null,
   "metadata": {},
   "outputs": [
    {
     "name": "stdout",
     "output_type": "stream",
     "text": [
      "[4, 16, 36]\n"
     ]
    }
   ],
   "source": [
    "nums = [1, 2, 3, 4, 5, 6]\n",
    "# 👉 Your Code:\n",
    "\n",
    "square = [x**2 for x in nums if x%2==0] \n",
    "print(square)"
   ]
  },
  {
   "cell_type": "markdown",
   "metadata": {},
   "source": [
    "#### 🧪 Exercise 5: Flatten a 2D List\n",
    "Problem:\\\n",
    "Flatten this list of lists into a single list using list comprehension."
   ]
  },
  {
   "cell_type": "code",
   "execution_count": null,
   "metadata": {},
   "outputs": [
    {
     "name": "stdout",
     "output_type": "stream",
     "text": [
      "[1, 2, 3, 4, 5, 6]\n"
     ]
    }
   ],
   "source": [
    "matrix = [[1, 2], [3, 4], [5, 6]]\n",
    "# 👉 Your Code:\n",
    "\n",
    "flattened = [num for row in matrix for num in row]\n",
    "print(flattened)  # Output: [1, 2, 3, 4, 5, 6]\n"
   ]
  },
  {
   "cell_type": "markdown",
   "metadata": {},
   "source": [
    "✅ Summary:\\\n",
    "Expression\tMeaning\\\n",
    "[x for x in list]\tCopy a list\\\n",
    "[x*2 for x in list]\tModify each item\\\n",
    "[x for x in list if x > 0]\tFilter items\\\n",
    "[\"Yes\" if x else \"No\" for x in a]\tConditional logic in list comprehension\\"
   ]
  },
  {
   "cell_type": "code",
   "execution_count": null,
   "metadata": {},
   "outputs": [],
   "source": []
  },
  {
   "cell_type": "code",
   "execution_count": null,
   "metadata": {},
   "outputs": [],
   "source": []
  },
  {
   "cell_type": "code",
   "execution_count": null,
   "metadata": {},
   "outputs": [
    {
     "name": "stdout",
     "output_type": "stream",
     "text": [
      "['odd', 'even', 'odd', 'even', 'odd', 'even']\n"
     ]
    }
   ],
   "source": [
    "# 2. Label numbers as \"Even\" or \"Odd\"\n",
    "label = ['even' if x%2==0 else 'odd' for x in numbers]\n",
    "print(label)"
   ]
  },
  {
   "cell_type": "markdown",
   "metadata": {},
   "source": [
    "#### 🔹 4. Nested Loops in List Comprehension\n",
    "[expression for x in list1 for y in list2] \\\n",
    "Combine two lists into all pairs\n"
   ]
  },
  {
   "cell_type": "code",
   "execution_count": null,
   "metadata": {},
   "outputs": [
    {
     "name": "stdout",
     "output_type": "stream",
     "text": [
      "[('red', 'pen'), ('red', 'notebook'), ('blue', 'pen'), ('blue', 'notebook')]\n"
     ]
    }
   ],
   "source": [
    "colors = ['red', 'blue']\n",
    "items = ['pen', 'notebook']\n",
    "\n",
    "new = [(c,i) for c in colors for i in items]\n",
    "\n",
    "print(new)"
   ]
  },
  {
   "cell_type": "markdown",
   "metadata": {},
   "source": [
    "#### 🔹 5. List Comprehension with range()\n",
    "Generate squares from 0 to 9"
   ]
  },
  {
   "cell_type": "code",
   "execution_count": null,
   "metadata": {},
   "outputs": [
    {
     "name": "stdout",
     "output_type": "stream",
     "text": [
      "[0, 1, 4, 9, 16, 25, 36, 49, 64, 81]\n"
     ]
    }
   ],
   "source": [
    "squares = [x**2 for x in range(10)]\n",
    "print (squares)"
   ]
  },
  {
   "cell_type": "markdown",
   "metadata": {},
   "source": [
    "#### 🔍 6. Real-Life Example\n",
    "📌 Filter out valid emails:"
   ]
  },
  {
   "cell_type": "code",
   "execution_count": null,
   "metadata": {},
   "outputs": [
    {
     "name": "stdout",
     "output_type": "stream",
     "text": [
      "['alice@example.com', 'charlie@gmail.com']\n"
     ]
    }
   ],
   "source": [
    "emails = [\"alice@example.com\", \"bob@\", \"charlie@gmail.com\"]\n",
    "valid_email = [e for e in emails if \"@\" and '.' in e]\n",
    "\n",
    "print(valid_email)"
   ]
  },
  {
   "cell_type": "markdown",
   "metadata": {},
   "source": [
    "# Exercises"
   ]
  },
  {
   "cell_type": "markdown",
   "metadata": {},
   "source": [
    "#### 🧪 Exercise 1: Double the Numbers\n"
   ]
  },
  {
   "cell_type": "code",
   "execution_count": null,
   "metadata": {},
   "outputs": [
    {
     "name": "stdout",
     "output_type": "stream",
     "text": [
      "[2, 6, 10, 14, 18]\n"
     ]
    }
   ],
   "source": [
    "nums = [1, 3, 5, 7, 9]\n",
    "# 👉 Your Code:\n",
    "\n",
    "double = [x*2 for x in nums]\n",
    "print(double)"
   ]
  },
  {
   "cell_type": "markdown",
   "metadata": {},
   "source": [
    "#### 🧪 Exercise 2: Filter Positive Numbers\n",
    "Problem:\\\n",
    "From this list, create a new list containing only the positive numbers."
   ]
  },
  {
   "cell_type": "code",
   "execution_count": null,
   "metadata": {},
   "outputs": [
    {
     "name": "stdout",
     "output_type": "stream",
     "text": [
      "[2, 5]\n"
     ]
    }
   ],
   "source": [
    "nums = [-4, -1, 0, 2, 5, -6]\n",
    "# 👉 Your Code:\n",
    "\n",
    "pos = [x for x in nums if x > 0]\n",
    "print (pos)"
   ]
  },
  {
   "cell_type": "markdown",
   "metadata": {},
   "source": [
    "#### 🧪 Exercise 3: Even or Odd Labels\n",
    "Problem:\\\n",
    "Create a list that labels each number as \"Even\" or \"Odd\"."
   ]
  },
  {
   "cell_type": "code",
   "execution_count": null,
   "metadata": {},
   "outputs": [
    {
     "name": "stdout",
     "output_type": "stream",
     "text": [
      "['odd', 'Even', 'odd', 'Even', 'odd', 'Even']\n"
     ]
    }
   ],
   "source": [
    "nums = [1, 2, 3, 4, 5]\n",
    "# 👉 Your Code:\n",
    "\n",
    "label = [\"Even\" if x%2==0 else \"odd\" for x in numbers]\n",
    "print(label)"
   ]
  },
  {
   "cell_type": "markdown",
   "metadata": {},
   "source": [
    "#### 🧪 Exercise 4: Square Only Even Numbers\n",
    "Problem:\\\n",
    "Create a list of the squares of even numbers only."
   ]
  },
  {
   "cell_type": "code",
   "execution_count": null,
   "metadata": {},
   "outputs": [
    {
     "name": "stdout",
     "output_type": "stream",
     "text": [
      "[4, 16, 36]\n"
     ]
    }
   ],
   "source": [
    "nums = [1, 2, 3, 4, 5, 6]\n",
    "# 👉 Your Code:\n",
    "\n",
    "square = [x**2 for x in nums if x%2==0] \n",
    "print(square)"
   ]
  },
  {
   "cell_type": "markdown",
   "metadata": {},
   "source": [
    "#### 🧪 Exercise 5: Flatten a 2D List\n",
    "Problem:\\\n",
    "Flatten this list of lists into a single list using list comprehension."
   ]
  },
  {
   "cell_type": "code",
   "execution_count": null,
   "metadata": {},
   "outputs": [
    {
     "name": "stdout",
     "output_type": "stream",
     "text": [
      "[1, 2, 3, 4, 5, 6]\n"
     ]
    }
   ],
   "source": [
    "matrix = [[1, 2], [3, 4], [5, 6]]\n",
    "# 👉 Your Code:\n",
    "\n",
    "flattened = [num for row in matrix for num in row]\n",
    "print(flattened)  # Output: [1, 2, 3, 4, 5, 6]\n"
   ]
  },
  {
   "cell_type": "markdown",
   "metadata": {},
   "source": [
    "✅ Summary:\\\n",
    "Expression\tMeaning\\\n",
    "[x for x in list]\tCopy a list\\\n",
    "[x*2 for x in list]\tModify each item\\\n",
    "[x for x in list if x > 0]\tFilter items\\\n",
    "[\"Yes\" if x else \"No\" for x in a]\tConditional logic in list comprehension\\"
   ]
  },
  {
   "cell_type": "code",
   "execution_count": null,
   "metadata": {},
   "outputs": [],
   "source": []
  },
  {
   "cell_type": "code",
   "execution_count": null,
   "metadata": {},
   "outputs": [],
   "source": []
  },
  {
   "cell_type": "code",
   "execution_count": null,
   "metadata": {},
   "outputs": [
    {
     "name": "stdout",
     "output_type": "stream",
     "text": [
      "['odd', 'even', 'odd', 'even', 'odd', 'even']\n"
     ]
    }
   ],
   "source": [
    "# 2. Label numbers as \"Even\" or \"Odd\"\n",
    "label = ['even' if x%2==0 else 'odd' for x in numbers]\n",
    "print(label)"
   ]
  },
  {
   "cell_type": "markdown",
   "metadata": {},
   "source": [
    "#### 🔹 4. Nested Loops in List Comprehension\n",
    "[expression for x in list1 for y in list2] \\\n",
    "Combine two lists into all pairs\n"
   ]
  },
  {
   "cell_type": "code",
   "execution_count": null,
   "metadata": {},
   "outputs": [
    {
     "name": "stdout",
     "output_type": "stream",
     "text": [
      "[('red', 'pen'), ('red', 'notebook'), ('blue', 'pen'), ('blue', 'notebook')]\n"
     ]
    }
   ],
   "source": [
    "colors = ['red', 'blue']\n",
    "items = ['pen', 'notebook']\n",
    "\n",
    "new = [(c,i) for c in colors for i in items]\n",
    "\n",
    "print(new)"
   ]
  },
  {
   "cell_type": "markdown",
   "metadata": {},
   "source": [
    "#### 🔹 5. List Comprehension with range()\n",
    "Generate squares from 0 to 9"
   ]
  },
  {
   "cell_type": "code",
   "execution_count": null,
   "metadata": {},
   "outputs": [
    {
     "name": "stdout",
     "output_type": "stream",
     "text": [
      "[0, 1, 4, 9, 16, 25, 36, 49, 64, 81]\n"
     ]
    }
   ],
   "source": [
    "squares = [x**2 for x in range(10)]\n",
    "print (squares)"
   ]
  },
  {
   "cell_type": "markdown",
   "metadata": {},
   "source": [
    "#### 🔍 6. Real-Life Example\n",
    "📌 Filter out valid emails:"
   ]
  },
  {
   "cell_type": "code",
   "execution_count": null,
   "metadata": {},
   "outputs": [
    {
     "name": "stdout",
     "output_type": "stream",
     "text": [
      "['alice@example.com', 'charlie@gmail.com']\n"
     ]
    }
   ],
   "source": [
    "emails = [\"alice@example.com\", \"bob@\", \"charlie@gmail.com\"]\n",
    "valid_email = [e for e in emails if \"@\" and '.' in e]\n",
    "\n",
    "print(valid_email)"
   ]
  },
  {
   "cell_type": "markdown",
   "metadata": {},
   "source": [
    "# Exercises"
   ]
  },
  {
   "cell_type": "markdown",
   "metadata": {},
   "source": [
    "#### 🧪 Exercise 1: Double the Numbers\n"
   ]
  },
  {
   "cell_type": "code",
   "execution_count": null,
   "metadata": {},
   "outputs": [
    {
     "name": "stdout",
     "output_type": "stream",
     "text": [
      "[2, 6, 10, 14, 18]\n"
     ]
    }
   ],
   "source": [
    "nums = [1, 3, 5, 7, 9]\n",
    "# 👉 Your Code:\n",
    "\n",
    "double = [x*2 for x in nums]\n",
    "print(double)"
   ]
  },
  {
   "cell_type": "markdown",
   "metadata": {},
   "source": [
    "#### 🧪 Exercise 2: Filter Positive Numbers\n",
    "Problem:\\\n",
    "From this list, create a new list containing only the positive numbers."
   ]
  },
  {
   "cell_type": "code",
   "execution_count": null,
   "metadata": {},
   "outputs": [
    {
     "name": "stdout",
     "output_type": "stream",
     "text": [
      "[2, 5]\n"
     ]
    }
   ],
   "source": [
    "nums = [-4, -1, 0, 2, 5, -6]\n",
    "# 👉 Your Code:\n",
    "\n",
    "pos = [x for x in nums if x > 0]\n",
    "print (pos)"
   ]
  },
  {
   "cell_type": "markdown",
   "metadata": {},
   "source": [
    "#### 🧪 Exercise 3: Even or Odd Labels\n",
    "Problem:\\\n",
    "Create a list that labels each number as \"Even\" or \"Odd\"."
   ]
  },
  {
   "cell_type": "code",
   "execution_count": null,
   "metadata": {},
   "outputs": [
    {
     "name": "stdout",
     "output_type": "stream",
     "text": [
      "['odd', 'Even', 'odd', 'Even', 'odd', 'Even']\n"
     ]
    }
   ],
   "source": [
    "nums = [1, 2, 3, 4, 5]\n",
    "# 👉 Your Code:\n",
    "\n",
    "label = [\"Even\" if x%2==0 else \"odd\" for x in numbers]\n",
    "print(label)"
   ]
  },
  {
   "cell_type": "markdown",
   "metadata": {},
   "source": [
    "#### 🧪 Exercise 4: Square Only Even Numbers\n",
    "Problem:\\\n",
    "Create a list of the squares of even numbers only."
   ]
  },
  {
   "cell_type": "code",
   "execution_count": null,
   "metadata": {},
   "outputs": [
    {
     "name": "stdout",
     "output_type": "stream",
     "text": [
      "[4, 16, 36]\n"
     ]
    }
   ],
   "source": [
    "nums = [1, 2, 3, 4, 5, 6]\n",
    "# 👉 Your Code:\n",
    "\n",
    "square = [x**2 for x in nums if x%2==0] \n",
    "print(square)"
   ]
  },
  {
   "cell_type": "markdown",
   "metadata": {},
   "source": [
    "#### 🧪 Exercise 5: Flatten a 2D List\n",
    "Problem:\\\n",
    "Flatten this list of lists into a single list using list comprehension."
   ]
  },
  {
   "cell_type": "code",
   "execution_count": null,
   "metadata": {},
   "outputs": [
    {
     "name": "stdout",
     "output_type": "stream",
     "text": [
      "[1, 2, 3, 4, 5, 6]\n"
     ]
    }
   ],
   "source": [
    "matrix = [[1, 2], [3, 4], [5, 6]]\n",
    "# 👉 Your Code:\n",
    "\n",
    "flattened = [num for row in matrix for num in row]\n",
    "print(flattened)  # Output: [1, 2, 3, 4, 5, 6]\n"
   ]
  },
  {
   "cell_type": "markdown",
   "metadata": {},
   "source": [
    "✅ Summary:\\\n",
    "Expression\tMeaning\\\n",
    "[x for x in list]\tCopy a list\\\n",
    "[x*2 for x in list]\tModify each item\\\n",
    "[x for x in list if x > 0]\tFilter items\\\n",
    "[\"Yes\" if x else \"No\" for x in a]\tConditional logic in list comprehension\\"
   ]
  },
  {
   "cell_type": "code",
   "execution_count": null,
   "metadata": {},
   "outputs": [],
   "source": []
  },
  {
   "cell_type": "code",
   "execution_count": null,
   "metadata": {},
   "outputs": [],
   "source": []
  },
  {
   "cell_type": "code",
   "execution_count": null,
   "metadata": {},
   "outputs": [
    {
     "name": "stdout",
     "output_type": "stream",
     "text": [
      "['odd', 'even', 'odd', 'even', 'odd', 'even']\n"
     ]
    }
   ],
   "source": [
    "# 2. Label numbers as \"Even\" or \"Odd\"\n",
    "label = ['even' if x%2==0 else 'odd' for x in numbers]\n",
    "print(label)"
   ]
  },
  {
   "cell_type": "markdown",
   "metadata": {},
   "source": [
    "#### 🔹 4. Nested Loops in List Comprehension\n",
    "[expression for x in list1 for y in list2] \\\n",
    "Combine two lists into all pairs\n"
   ]
  },
  {
   "cell_type": "code",
   "execution_count": null,
   "metadata": {},
   "outputs": [
    {
     "name": "stdout",
     "output_type": "stream",
     "text": [
      "[('red', 'pen'), ('red', 'notebook'), ('blue', 'pen'), ('blue', 'notebook')]\n"
     ]
    }
   ],
   "source": [
    "colors = ['red', 'blue']\n",
    "items = ['pen', 'notebook']\n",
    "\n",
    "new = [(c,i) for c in colors for i in items]\n",
    "\n",
    "print(new)"
   ]
  },
  {
   "cell_type": "markdown",
   "metadata": {},
   "source": [
    "#### 🔹 5. List Comprehension with range()\n",
    "Generate squares from 0 to 9"
   ]
  },
  {
   "cell_type": "code",
   "execution_count": null,
   "metadata": {},
   "outputs": [
    {
     "name": "stdout",
     "output_type": "stream",
     "text": [
      "[0, 1, 4, 9, 16, 25, 36, 49, 64, 81]\n"
     ]
    }
   ],
   "source": [
    "squares = [x**2 for x in range(10)]\n",
    "print (squares)"
   ]
  },
  {
   "cell_type": "markdown",
   "metadata": {},
   "source": [
    "#### 🔍 6. Real-Life Example\n",
    "📌 Filter out valid emails:"
   ]
  },
  {
   "cell_type": "code",
   "execution_count": null,
   "metadata": {},
   "outputs": [
    {
     "name": "stdout",
     "output_type": "stream",
     "text": [
      "['alice@example.com', 'charlie@gmail.com']\n"
     ]
    }
   ],
   "source": [
    "emails = [\"alice@example.com\", \"bob@\", \"charlie@gmail.com\"]\n",
    "valid_email = [e for e in emails if \"@\" and '.' in e]\n",
    "\n",
    "print(valid_email)"
   ]
  },
  {
   "cell_type": "markdown",
   "metadata": {},
   "source": [
    "# Exercises"
   ]
  },
  {
   "cell_type": "markdown",
   "metadata": {},
   "source": [
    "#### 🧪 Exercise 1: Double the Numbers\n"
   ]
  },
  {
   "cell_type": "code",
   "execution_count": null,
   "metadata": {},
   "outputs": [
    {
     "name": "stdout",
     "output_type": "stream",
     "text": [
      "[2, 6, 10, 14, 18]\n"
     ]
    }
   ],
   "source": [
    "nums = [1, 3, 5, 7, 9]\n",
    "# 👉 Your Code:\n",
    "\n",
    "double = [x*2 for x in nums]\n",
    "print(double)"
   ]
  },
  {
   "cell_type": "markdown",
   "metadata": {},
   "source": [
    "#### 🧪 Exercise 2: Filter Positive Numbers\n",
    "Problem:\\\n",
    "From this list, create a new list containing only the positive numbers."
   ]
  },
  {
   "cell_type": "code",
   "execution_count": null,
   "metadata": {},
   "outputs": [
    {
     "name": "stdout",
     "output_type": "stream",
     "text": [
      "[2, 5]\n"
     ]
    }
   ],
   "source": [
    "nums = [-4, -1, 0, 2, 5, -6]\n",
    "# 👉 Your Code:\n",
    "\n",
    "pos = [x for x in nums if x > 0]\n",
    "print (pos)"
   ]
  },
  {
   "cell_type": "markdown",
   "metadata": {},
   "source": [
    "#### 🧪 Exercise 3: Even or Odd Labels\n",
    "Problem:\\\n",
    "Create a list that labels each number as \"Even\" or \"Odd\"."
   ]
  },
  {
   "cell_type": "code",
   "execution_count": null,
   "metadata": {},
   "outputs": [
    {
     "name": "stdout",
     "output_type": "stream",
     "text": [
      "['odd', 'Even', 'odd', 'Even', 'odd', 'Even']\n"
     ]
    }
   ],
   "source": [
    "nums = [1, 2, 3, 4, 5]\n",
    "# 👉 Your Code:\n",
    "\n",
    "label = [\"Even\" if x%2==0 else \"odd\" for x in numbers]\n",
    "print(label)"
   ]
  },
  {
   "cell_type": "markdown",
   "metadata": {},
   "source": [
    "#### 🧪 Exercise 4: Square Only Even Numbers\n",
    "Problem:\\\n",
    "Create a list of the squares of even numbers only."
   ]
  },
  {
   "cell_type": "code",
   "execution_count": null,
   "metadata": {},
   "outputs": [
    {
     "name": "stdout",
     "output_type": "stream",
     "text": [
      "[4, 16, 36]\n"
     ]
    }
   ],
   "source": [
    "nums = [1, 2, 3, 4, 5, 6]\n",
    "# 👉 Your Code:\n",
    "\n",
    "square = [x**2 for x in nums if x%2==0] \n",
    "print(square)"
   ]
  },
  {
   "cell_type": "markdown",
   "metadata": {},
   "source": [
    "#### 🧪 Exercise 5: Flatten a 2D List\n",
    "Problem:\\\n",
    "Flatten this list of lists into a single list using list comprehension."
   ]
  },
  {
   "cell_type": "code",
   "execution_count": null,
   "metadata": {},
   "outputs": [
    {
     "name": "stdout",
     "output_type": "stream",
     "text": [
      "[1, 2, 3, 4, 5, 6]\n"
     ]
    }
   ],
   "source": [
    "matrix = [[1, 2], [3, 4], [5, 6]]\n",
    "# 👉 Your Code:\n",
    "\n",
    "flattened = [num for row in matrix for num in row]\n",
    "print(flattened)  # Output: [1, 2, 3, 4, 5, 6]\n"
   ]
  },
  {
   "cell_type": "markdown",
   "metadata": {},
   "source": [
    "✅ Summary:\\\n",
    "Expression\tMeaning\\\n",
    "[x for x in list]\tCopy a list\\\n",
    "[x*2 for x in list]\tModify each item\\\n",
    "[x for x in list if x > 0]\tFilter items\\\n",
    "[\"Yes\" if x else \"No\" for x in a]\tConditional logic in list comprehension\\"
   ]
  },
  {
   "cell_type": "code",
   "execution_count": null,
   "metadata": {},
   "outputs": [],
   "source": []
  },
  {
   "cell_type": "code",
   "execution_count": null,
   "metadata": {},
   "outputs": [],
   "source": []
  },
  {
   "cell_type": "code",
   "execution_count": null,
   "metadata": {},
   "outputs": [
    {
     "name": "stdout",
     "output_type": "stream",
     "text": [
      "['odd', 'even', 'odd', 'even', 'odd', 'even']\n"
     ]
    }
   ],
   "source": [
    "# 2. Label numbers as \"Even\" or \"Odd\"\n",
    "label = ['even' if x%2==0 else 'odd' for x in numbers]\n",
    "print(label)"
   ]
  },
  {
   "cell_type": "markdown",
   "metadata": {},
   "source": [
    "#### 🔹 4. Nested Loops in List Comprehension\n",
    "[expression for x in list1 for y in list2] \\\n",
    "Combine two lists into all pairs\n"
   ]
  },
  {
   "cell_type": "code",
   "execution_count": null,
   "metadata": {},
   "outputs": [
    {
     "name": "stdout",
     "output_type": "stream",
     "text": [
      "[('red', 'pen'), ('red', 'notebook'), ('blue', 'pen'), ('blue', 'notebook')]\n"
     ]
    }
   ],
   "source": [
    "colors = ['red', 'blue']\n",
    "items = ['pen', 'notebook']\n",
    "\n",
    "new = [(c,i) for c in colors for i in items]\n",
    "\n",
    "print(new)"
   ]
  },
  {
   "cell_type": "markdown",
   "metadata": {},
   "source": [
    "#### 🔹 5. List Comprehension with range()\n",
    "Generate squares from 0 to 9"
   ]
  },
  {
   "cell_type": "code",
   "execution_count": null,
   "metadata": {},
   "outputs": [
    {
     "name": "stdout",
     "output_type": "stream",
     "text": [
      "[0, 1, 4, 9, 16, 25, 36, 49, 64, 81]\n"
     ]
    }
   ],
   "source": [
    "squares = [x**2 for x in range(10)]\n",
    "print (squares)"
   ]
  },
  {
   "cell_type": "markdown",
   "metadata": {},
   "source": [
    "#### 🔍 6. Real-Life Example\n",
    "📌 Filter out valid emails:"
   ]
  },
  {
   "cell_type": "code",
   "execution_count": null,
   "metadata": {},
   "outputs": [
    {
     "name": "stdout",
     "output_type": "stream",
     "text": [
      "['alice@example.com', 'charlie@gmail.com']\n"
     ]
    }
   ],
   "source": [
    "emails = [\"alice@example.com\", \"bob@\", \"charlie@gmail.com\"]\n",
    "valid_email = [e for e in emails if \"@\" and '.' in e]\n",
    "\n",
    "print(valid_email)"
   ]
  },
  {
   "cell_type": "markdown",
   "metadata": {},
   "source": [
    "# Exercises"
   ]
  },
  {
   "cell_type": "markdown",
   "metadata": {},
   "source": [
    "#### 🧪 Exercise 1: Double the Numbers\n"
   ]
  },
  {
   "cell_type": "code",
   "execution_count": null,
   "metadata": {},
   "outputs": [
    {
     "name": "stdout",
     "output_type": "stream",
     "text": [
      "[2, 6, 10, 14, 18]\n"
     ]
    }
   ],
   "source": [
    "nums = [1, 3, 5, 7, 9]\n",
    "# 👉 Your Code:\n",
    "\n",
    "double = [x*2 for x in nums]\n",
    "print(double)"
   ]
  },
  {
   "cell_type": "markdown",
   "metadata": {},
   "source": [
    "#### 🧪 Exercise 2: Filter Positive Numbers\n",
    "Problem:\\\n",
    "From this list, create a new list containing only the positive numbers."
   ]
  },
  {
   "cell_type": "code",
   "execution_count": null,
   "metadata": {},
   "outputs": [
    {
     "name": "stdout",
     "output_type": "stream",
     "text": [
      "[2, 5]\n"
     ]
    }
   ],
   "source": [
    "nums = [-4, -1, 0, 2, 5, -6]\n",
    "# 👉 Your Code:\n",
    "\n",
    "pos = [x for x in nums if x > 0]\n",
    "print (pos)"
   ]
  },
  {
   "cell_type": "markdown",
   "metadata": {},
   "source": [
    "#### 🧪 Exercise 3: Even or Odd Labels\n",
    "Problem:\\\n",
    "Create a list that labels each number as \"Even\" or \"Odd\"."
   ]
  },
  {
   "cell_type": "code",
   "execution_count": null,
   "metadata": {},
   "outputs": [
    {
     "name": "stdout",
     "output_type": "stream",
     "text": [
      "['odd', 'Even', 'odd', 'Even', 'odd', 'Even']\n"
     ]
    }
   ],
   "source": [
    "nums = [1, 2, 3, 4, 5]\n",
    "# 👉 Your Code:\n",
    "\n",
    "label = [\"Even\" if x%2==0 else \"odd\" for x in numbers]\n",
    "print(label)"
   ]
  },
  {
   "cell_type": "markdown",
   "metadata": {},
   "source": [
    "#### 🧪 Exercise 4: Square Only Even Numbers\n",
    "Problem:\\\n",
    "Create a list of the squares of even numbers only."
   ]
  },
  {
   "cell_type": "code",
   "execution_count": null,
   "metadata": {},
   "outputs": [
    {
     "name": "stdout",
     "output_type": "stream",
     "text": [
      "[4, 16, 36]\n"
     ]
    }
   ],
   "source": [
    "nums = [1, 2, 3, 4, 5, 6]\n",
    "# 👉 Your Code:\n",
    "\n",
    "square = [x**2 for x in nums if x%2==0] \n",
    "print(square)"
   ]
  },
  {
   "cell_type": "markdown",
   "metadata": {},
   "source": [
    "#### 🧪 Exercise 5: Flatten a 2D List\n",
    "Problem:\\\n",
    "Flatten this list of lists into a single list using list comprehension."
   ]
  },
  {
   "cell_type": "code",
   "execution_count": null,
   "metadata": {},
   "outputs": [
    {
     "name": "stdout",
     "output_type": "stream",
     "text": [
      "[1, 2, 3, 4, 5, 6]\n"
     ]
    }
   ],
   "source": [
    "matrix = [[1, 2], [3, 4], [5, 6]]\n",
    "# 👉 Your Code:\n",
    "\n",
    "flattened = [num for row in matrix for num in row]\n",
    "print(flattened)  # Output: [1, 2, 3, 4, 5, 6]\n"
   ]
  },
  {
   "cell_type": "markdown",
   "metadata": {},
   "source": [
    "✅ Summary:\\\n",
    "Expression\tMeaning\\\n",
    "[x for x in list]\tCopy a list\\\n",
    "[x*2 for x in list]\tModify each item\\\n",
    "[x for x in list if x > 0]\tFilter items\\\n",
    "[\"Yes\" if x else \"No\" for x in a]\tConditional logic in list comprehension\\"
   ]
  },
  {
   "cell_type": "code",
   "execution_count": null,
   "metadata": {},
   "outputs": [],
   "source": []
  },
  {
   "cell_type": "code",
   "execution_count": null,
   "metadata": {},
   "outputs": [],
   "source": []
  },
  {
   "cell_type": "code",
   "execution_count": null,
   "metadata": {},
   "outputs": [
    {
     "name": "stdout",
     "output_type": "stream",
     "text": [
      "['odd', 'even', 'odd', 'even', 'odd', 'even']\n"
     ]
    }
   ],
   "source": [
    "# 2. Label numbers as \"Even\" or \"Odd\"\n",
    "label = ['even' if x%2==0 else 'odd' for x in numbers]\n",
    "print(label)"
   ]
  },
  {
   "cell_type": "markdown",
   "metadata": {},
   "source": [
    "#### 🔹 4. Nested Loops in List Comprehension\n",
    "[expression for x in list1 for y in list2] \\\n",
    "Combine two lists into all pairs\n"
   ]
  },
  {
   "cell_type": "code",
   "execution_count": null,
   "metadata": {},
   "outputs": [
    {
     "name": "stdout",
     "output_type": "stream",
     "text": [
      "[('red', 'pen'), ('red', 'notebook'), ('blue', 'pen'), ('blue', 'notebook')]\n"
     ]
    }
   ],
   "source": [
    "colors = ['red', 'blue']\n",
    "items = ['pen', 'notebook']\n",
    "\n",
    "new = [(c,i) for c in colors for i in items]\n",
    "\n",
    "print(new)"
   ]
  },
  {
   "cell_type": "markdown",
   "metadata": {},
   "source": [
    "#### 🔹 5. List Comprehension with range()\n",
    "Generate squares from 0 to 9"
   ]
  },
  {
   "cell_type": "code",
   "execution_count": null,
   "metadata": {},
   "outputs": [
    {
     "name": "stdout",
     "output_type": "stream",
     "text": [
      "[0, 1, 4, 9, 16, 25, 36, 49, 64, 81]\n"
     ]
    }
   ],
   "source": [
    "squares = [x**2 for x in range(10)]\n",
    "print (squares)"
   ]
  },
  {
   "cell_type": "markdown",
   "metadata": {},
   "source": [
    "#### 🔍 6. Real-Life Example\n",
    "📌 Filter out valid emails:"
   ]
  },
  {
   "cell_type": "code",
   "execution_count": null,
   "metadata": {},
   "outputs": [
    {
     "name": "stdout",
     "output_type": "stream",
     "text": [
      "['alice@example.com', 'charlie@gmail.com']\n"
     ]
    }
   ],
   "source": [
    "emails = [\"alice@example.com\", \"bob@\", \"charlie@gmail.com\"]\n",
    "valid_email = [e for e in emails if \"@\" and '.' in e]\n",
    "\n",
    "print(valid_email)"
   ]
  },
  {
   "cell_type": "markdown",
   "metadata": {},
   "source": [
    "# Exercises"
   ]
  },
  {
   "cell_type": "markdown",
   "metadata": {},
   "source": [
    "#### 🧪 Exercise 1: Double the Numbers\n"
   ]
  },
  {
   "cell_type": "code",
   "execution_count": null,
   "metadata": {},
   "outputs": [
    {
     "name": "stdout",
     "output_type": "stream",
     "text": [
      "[2, 6, 10, 14, 18]\n"
     ]
    }
   ],
   "source": [
    "nums = [1, 3, 5, 7, 9]\n",
    "# 👉 Your Code:\n",
    "\n",
    "double = [x*2 for x in nums]\n",
    "print(double)"
   ]
  },
  {
   "cell_type": "markdown",
   "metadata": {},
   "source": [
    "#### 🧪 Exercise 2: Filter Positive Numbers\n",
    "Problem:\\\n",
    "From this list, create a new list containing only the positive numbers."
   ]
  },
  {
   "cell_type": "code",
   "execution_count": null,
   "metadata": {},
   "outputs": [
    {
     "name": "stdout",
     "output_type": "stream",
     "text": [
      "[2, 5]\n"
     ]
    }
   ],
   "source": [
    "nums = [-4, -1, 0, 2, 5, -6]\n",
    "# 👉 Your Code:\n",
    "\n",
    "pos = [x for x in nums if x > 0]\n",
    "print (pos)"
   ]
  },
  {
   "cell_type": "markdown",
   "metadata": {},
   "source": [
    "#### 🧪 Exercise 3: Even or Odd Labels\n",
    "Problem:\\\n",
    "Create a list that labels each number as \"Even\" or \"Odd\"."
   ]
  },
  {
   "cell_type": "code",
   "execution_count": null,
   "metadata": {},
   "outputs": [
    {
     "name": "stdout",
     "output_type": "stream",
     "text": [
      "['odd', 'Even', 'odd', 'Even', 'odd', 'Even']\n"
     ]
    }
   ],
   "source": [
    "nums = [1, 2, 3, 4, 5]\n",
    "# 👉 Your Code:\n",
    "\n",
    "label = [\"Even\" if x%2==0 else \"odd\" for x in numbers]\n",
    "print(label)"
   ]
  },
  {
   "cell_type": "markdown",
   "metadata": {},
   "source": [
    "#### 🧪 Exercise 4: Square Only Even Numbers\n",
    "Problem:\\\n",
    "Create a list of the squares of even numbers only."
   ]
  },
  {
   "cell_type": "code",
   "execution_count": null,
   "metadata": {},
   "outputs": [
    {
     "name": "stdout",
     "output_type": "stream",
     "text": [
      "[4, 16, 36]\n"
     ]
    }
   ],
   "source": [
    "nums = [1, 2, 3, 4, 5, 6]\n",
    "# 👉 Your Code:\n",
    "\n",
    "square = [x**2 for x in nums if x%2==0] \n",
    "print(square)"
   ]
  },
  {
   "cell_type": "markdown",
   "metadata": {},
   "source": [
    "#### 🧪 Exercise 5: Flatten a 2D List\n",
    "Problem:\\\n",
    "Flatten this list of lists into a single list using list comprehension."
   ]
  },
  {
   "cell_type": "code",
   "execution_count": null,
   "metadata": {},
   "outputs": [
    {
     "name": "stdout",
     "output_type": "stream",
     "text": [
      "[1, 2, 3, 4, 5, 6]\n"
     ]
    }
   ],
   "source": [
    "matrix = [[1, 2], [3, 4], [5, 6]]\n",
    "# 👉 Your Code:\n",
    "\n",
    "flattened = [num for row in matrix for num in row]\n",
    "print(flattened)  # Output: [1, 2, 3, 4, 5, 6]\n"
   ]
  },
  {
   "cell_type": "markdown",
   "metadata": {},
   "source": [
    "✅ Summary:\\\n",
    "Expression\tMeaning\\\n",
    "[x for x in list]\tCopy a list\\\n",
    "[x*2 for x in list]\tModify each item\\\n",
    "[x for x in list if x > 0]\tFilter items\\\n",
    "[\"Yes\" if x else \"No\" for x in a]\tConditional logic in list comprehension\\"
   ]
  },
  {
   "cell_type": "code",
   "execution_count": null,
   "metadata": {},
   "outputs": [],
   "source": []
  },
  {
   "cell_type": "code",
   "execution_count": null,
   "metadata": {},
   "outputs": [],
   "source": []
  },
  {
   "cell_type": "code",
   "execution_count": null,
   "metadata": {},
   "outputs": [
    {
     "name": "stdout",
     "output_type": "stream",
     "text": [
      "['odd', 'even', 'odd', 'even', 'odd', 'even']\n"
     ]
    }
   ],
   "source": [
    "# 2. Label numbers as \"Even\" or \"Odd\"\n",
    "label = ['even' if x%2==0 else 'odd' for x in numbers]\n",
    "print(label)"
   ]
  },
  {
   "cell_type": "markdown",
   "metadata": {},
   "source": [
    "#### 🔹 4. Nested Loops in List Comprehension\n",
    "[expression for x in list1 for y in list2] \\\n",
    "Combine two lists into all pairs\n"
   ]
  },
  {
   "cell_type": "code",
   "execution_count": null,
   "metadata": {},
   "outputs": [
    {
     "name": "stdout",
     "output_type": "stream",
     "text": [
      "[('red', 'pen'), ('red', 'notebook'), ('blue', 'pen'), ('blue', 'notebook')]\n"
     ]
    }
   ],
   "source": [
    "colors = ['red', 'blue']\n",
    "items = ['pen', 'notebook']\n",
    "\n",
    "new = [(c,i) for c in colors for i in items]\n",
    "\n",
    "print(new)"
   ]
  },
  {
   "cell_type": "markdown",
   "metadata": {},
   "source": [
    "#### 🔹 5. List Comprehension with range()\n",
    "Generate squares from 0 to 9"
   ]
  },
  {
   "cell_type": "code",
   "execution_count": null,
   "metadata": {},
   "outputs": [
    {
     "name": "stdout",
     "output_type": "stream",
     "text": [
      "[0, 1, 4, 9, 16, 25, 36, 49, 64, 81]\n"
     ]
    }
   ],
   "source": [
    "squares = [x**2 for x in range(10)]\n",
    "print (squares)"
   ]
  },
  {
   "cell_type": "markdown",
   "metadata": {},
   "source": [
    "#### 🔍 6. Real-Life Example\n",
    "📌 Filter out valid emails:"
   ]
  },
  {
   "cell_type": "code",
   "execution_count": null,
   "metadata": {},
   "outputs": [
    {
     "name": "stdout",
     "output_type": "stream",
     "text": [
      "['alice@example.com', 'charlie@gmail.com']\n"
     ]
    }
   ],
   "source": [
    "emails = [\"alice@example.com\", \"bob@\", \"charlie@gmail.com\"]\n",
    "valid_email = [e for e in emails if \"@\" and '.' in e]\n",
    "\n",
    "print(valid_email)"
   ]
  },
  {
   "cell_type": "markdown",
   "metadata": {},
   "source": [
    "# Exercises"
   ]
  },
  {
   "cell_type": "markdown",
   "metadata": {},
   "source": [
    "#### 🧪 Exercise 1: Double the Numbers\n"
   ]
  },
  {
   "cell_type": "code",
   "execution_count": null,
   "metadata": {},
   "outputs": [
    {
     "name": "stdout",
     "output_type": "stream",
     "text": [
      "[2, 6, 10, 14, 18]\n"
     ]
    }
   ],
   "source": [
    "nums = [1, 3, 5, 7, 9]\n",
    "# 👉 Your Code:\n",
    "\n",
    "double = [x*2 for x in nums]\n",
    "print(double)"
   ]
  },
  {
   "cell_type": "markdown",
   "metadata": {},
   "source": [
    "#### 🧪 Exercise 2: Filter Positive Numbers\n",
    "Problem:\\\n",
    "From this list, create a new list containing only the positive numbers."
   ]
  },
  {
   "cell_type": "code",
   "execution_count": null,
   "metadata": {},
   "outputs": [
    {
     "name": "stdout",
     "output_type": "stream",
     "text": [
      "[2, 5]\n"
     ]
    }
   ],
   "source": [
    "nums = [-4, -1, 0, 2, 5, -6]\n",
    "# 👉 Your Code:\n",
    "\n",
    "pos = [x for x in nums if x > 0]\n",
    "print (pos)"
   ]
  },
  {
   "cell_type": "markdown",
   "metadata": {},
   "source": [
    "#### 🧪 Exercise 3: Even or Odd Labels\n",
    "Problem:\\\n",
    "Create a list that labels each number as \"Even\" or \"Odd\"."
   ]
  },
  {
   "cell_type": "code",
   "execution_count": null,
   "metadata": {},
   "outputs": [
    {
     "name": "stdout",
     "output_type": "stream",
     "text": [
      "['odd', 'Even', 'odd', 'Even', 'odd', 'Even']\n"
     ]
    }
   ],
   "source": [
    "nums = [1, 2, 3, 4, 5]\n",
    "# 👉 Your Code:\n",
    "\n",
    "label = [\"Even\" if x%2==0 else \"odd\" for x in numbers]\n",
    "print(label)"
   ]
  },
  {
   "cell_type": "markdown",
   "metadata": {},
   "source": [
    "#### 🧪 Exercise 4: Square Only Even Numbers\n",
    "Problem:\\\n",
    "Create a list of the squares of even numbers only."
   ]
  },
  {
   "cell_type": "code",
   "execution_count": null,
   "metadata": {},
   "outputs": [
    {
     "name": "stdout",
     "output_type": "stream",
     "text": [
      "[4, 16, 36]\n"
     ]
    }
   ],
   "source": [
    "nums = [1, 2, 3, 4, 5, 6]\n",
    "# 👉 Your Code:\n",
    "\n",
    "square = [x**2 for x in nums if x%2==0] \n",
    "print(square)"
   ]
  },
  {
   "cell_type": "markdown",
   "metadata": {},
   "source": [
    "#### 🧪 Exercise 5: Flatten a 2D List\n",
    "Problem:\\\n",
    "Flatten this list of lists into a single list using list comprehension."
   ]
  },
  {
   "cell_type": "code",
   "execution_count": null,
   "metadata": {},
   "outputs": [
    {
     "name": "stdout",
     "output_type": "stream",
     "text": [
      "[1, 2, 3, 4, 5, 6]\n"
     ]
    }
   ],
   "source": [
    "matrix = [[1, 2], [3, 4], [5, 6]]\n",
    "# 👉 Your Code:\n",
    "\n",
    "flattened = [num for row in matrix for num in row]\n",
    "print(flattened)  # Output: [1, 2, 3, 4, 5, 6]\n"
   ]
  },
  {
   "cell_type": "markdown",
   "metadata": {},
   "source": [
    "✅ Summary:\\\n",
    "Expression\tMeaning\\\n",
    "[x for x in list]\tCopy a list\\\n",
    "[x*2 for x in list]\tModify each item\\\n",
    "[x for x in list if x > 0]\tFilter items\\\n",
    "[\"Yes\" if x else \"No\" for x in a]\tConditional logic in list comprehension\\"
   ]
  },
  {
   "cell_type": "code",
   "execution_count": null,
   "metadata": {},
   "outputs": [],
   "source": []
  },
  {
   "cell_type": "code",
   "execution_count": null,
   "metadata": {},
   "outputs": [],
   "source": []
  },
  {
   "cell_type": "code",
   "execution_count": null,
   "metadata": {},
   "outputs": [
    {
     "name": "stdout",
     "output_type": "stream",
     "text": [
      "['odd', 'even', 'odd', 'even', 'odd', 'even']\n"
     ]
    }
   ],
   "source": [
    "# 2. Label numbers as \"Even\" or \"Odd\"\n",
    "label = ['even' if x%2==0 else 'odd' for x in numbers]\n",
    "print(label)"
   ]
  },
  {
   "cell_type": "markdown",
   "metadata": {},
   "source": [
    "#### 🔹 4. Nested Loops in List Comprehension\n",
    "[expression for x in list1 for y in list2] \\\n",
    "Combine two lists into all pairs\n"
   ]
  },
  {
   "cell_type": "code",
   "execution_count": null,
   "metadata": {},
   "outputs": [
    {
     "name": "stdout",
     "output_type": "stream",
     "text": [
      "[('red', 'pen'), ('red', 'notebook'), ('blue', 'pen'), ('blue', 'notebook')]\n"
     ]
    }
   ],
   "source": [
    "colors = ['red', 'blue']\n",
    "items = ['pen', 'notebook']\n",
    "\n",
    "new = [(c,i) for c in colors for i in items]\n",
    "\n",
    "print(new)"
   ]
  },
  {
   "cell_type": "markdown",
   "metadata": {},
   "source": [
    "#### 🔹 5. List Comprehension with range()\n",
    "Generate squares from 0 to 9"
   ]
  },
  {
   "cell_type": "code",
   "execution_count": null,
   "metadata": {},
   "outputs": [
    {
     "name": "stdout",
     "output_type": "stream",
     "text": [
      "[0, 1, 4, 9, 16, 25, 36, 49, 64, 81]\n"
     ]
    }
   ],
   "source": [
    "squares = [x**2 for x in range(10)]\n",
    "print (squares)"
   ]
  },
  {
   "cell_type": "markdown",
   "metadata": {},
   "source": [
    "#### 🔍 6. Real-Life Example\n",
    "📌 Filter out valid emails:"
   ]
  },
  {
   "cell_type": "code",
   "execution_count": null,
   "metadata": {},
   "outputs": [
    {
     "name": "stdout",
     "output_type": "stream",
     "text": [
      "['alice@example.com', 'charlie@gmail.com']\n"
     ]
    }
   ],
   "source": [
    "emails = [\"alice@example.com\", \"bob@\", \"charlie@gmail.com\"]\n",
    "valid_email = [e for e in emails if \"@\" and '.' in e]\n",
    "\n",
    "print(valid_email)"
   ]
  },
  {
   "cell_type": "markdown",
   "metadata": {},
   "source": [
    "# Exercises"
   ]
  },
  {
   "cell_type": "markdown",
   "metadata": {},
   "source": [
    "#### 🧪 Exercise 1: Double the Numbers\n"
   ]
  },
  {
   "cell_type": "code",
   "execution_count": null,
   "metadata": {},
   "outputs": [
    {
     "name": "stdout",
     "output_type": "stream",
     "text": [
      "[2, 6, 10, 14, 18]\n"
     ]
    }
   ],
   "source": [
    "nums = [1, 3, 5, 7, 9]\n",
    "# 👉 Your Code:\n",
    "\n",
    "double = [x*2 for x in nums]\n",
    "print(double)"
   ]
  },
  {
   "cell_type": "markdown",
   "metadata": {},
   "source": [
    "#### 🧪 Exercise 2: Filter Positive Numbers\n",
    "Problem:\\\n",
    "From this list, create a new list containing only the positive numbers."
   ]
  },
  {
   "cell_type": "code",
   "execution_count": null,
   "metadata": {},
   "outputs": [
    {
     "name": "stdout",
     "output_type": "stream",
     "text": [
      "[2, 5]\n"
     ]
    }
   ],
   "source": [
    "nums = [-4, -1, 0, 2, 5, -6]\n",
    "# 👉 Your Code:\n",
    "\n",
    "pos = [x for x in nums if x > 0]\n",
    "print (pos)"
   ]
  },
  {
   "cell_type": "markdown",
   "metadata": {},
   "source": [
    "#### 🧪 Exercise 3: Even or Odd Labels\n",
    "Problem:\\\n",
    "Create a list that labels each number as \"Even\" or \"Odd\"."
   ]
  },
  {
   "cell_type": "code",
   "execution_count": null,
   "metadata": {},
   "outputs": [
    {
     "name": "stdout",
     "output_type": "stream",
     "text": [
      "['odd', 'Even', 'odd', 'Even', 'odd', 'Even']\n"
     ]
    }
   ],
   "source": [
    "nums = [1, 2, 3, 4, 5]\n",
    "# 👉 Your Code:\n",
    "\n",
    "label = [\"Even\" if x%2==0 else \"odd\" for x in numbers]\n",
    "print(label)"
   ]
  },
  {
   "cell_type": "markdown",
   "metadata": {},
   "source": [
    "#### 🧪 Exercise 4: Square Only Even Numbers\n",
    "Problem:\\\n",
    "Create a list of the squares of even numbers only."
   ]
  },
  {
   "cell_type": "code",
   "execution_count": null,
   "metadata": {},
   "outputs": [
    {
     "name": "stdout",
     "output_type": "stream",
     "text": [
      "[4, 16, 36]\n"
     ]
    }
   ],
   "source": [
    "nums = [1, 2, 3, 4, 5, 6]\n",
    "# 👉 Your Code:\n",
    "\n",
    "square = [x**2 for x in nums if x%2==0] \n",
    "print(square)"
   ]
  },
  {
   "cell_type": "markdown",
   "metadata": {},
   "source": [
    "#### 🧪 Exercise 5: Flatten a 2D List\n",
    "Problem:\\\n",
    "Flatten this list of lists into a single list using list comprehension."
   ]
  },
  {
   "cell_type": "code",
   "execution_count": null,
   "metadata": {},
   "outputs": [
    {
     "name": "stdout",
     "output_type": "stream",
     "text": [
      "[1, 2, 3, 4, 5, 6]\n"
     ]
    }
   ],
   "source": [
    "matrix = [[1, 2], [3, 4], [5, 6]]\n",
    "# 👉 Your Code:\n",
    "\n",
    "flattened = [num for row in matrix for num in row]\n",
    "print(flattened)  # Output: [1, 2, 3, 4, 5, 6]\n"
   ]
  },
  {
   "cell_type": "markdown",
   "metadata": {},
   "source": [
    "✅ Summary:\\\n",
    "Expression\tMeaning\\\n",
    "[x for x in list]\tCopy a list\\\n",
    "[x*2 for x in list]\tModify each item\\\n",
    "[x for x in list if x > 0]\tFilter items\\\n",
    "[\"Yes\" if x else \"No\" for x in a]\tConditional logic in list comprehension\\"
   ]
  },
  {
   "cell_type": "code",
   "execution_count": null,
   "metadata": {},
   "outputs": [],
   "source": []
  },
  {
   "cell_type": "code",
   "execution_count": null,
   "metadata": {},
   "outputs": [],
   "source": []
  },
  {
   "cell_type": "code",
   "execution_count": null,
   "metadata": {},
   "outputs": [
    {
     "name": "stdout",
     "output_type": "stream",
     "text": [
      "['odd', 'even', 'odd', 'even', 'odd', 'even']\n"
     ]
    }
   ],
   "source": [
    "# 2. Label numbers as \"Even\" or \"Odd\"\n",
    "label = ['even' if x%2==0 else 'odd' for x in numbers]\n",
    "print(label)"
   ]
  },
  {
   "cell_type": "markdown",
   "metadata": {},
   "source": [
    "#### 🔹 4. Nested Loops in List Comprehension\n",
    "[expression for x in list1 for y in list2] \\\n",
    "Combine two lists into all pairs\n"
   ]
  },
  {
   "cell_type": "code",
   "execution_count": null,
   "metadata": {},
   "outputs": [
    {
     "name": "stdout",
     "output_type": "stream",
     "text": [
      "[('red', 'pen'), ('red', 'notebook'), ('blue', 'pen'), ('blue', 'notebook')]\n"
     ]
    }
   ],
   "source": [
    "colors = ['red', 'blue']\n",
    "items = ['pen', 'notebook']\n",
    "\n",
    "new = [(c,i) for c in colors for i in items]\n",
    "\n",
    "print(new)"
   ]
  },
  {
   "cell_type": "markdown",
   "metadata": {},
   "source": [
    "#### 🔹 5. List Comprehension with range()\n",
    "Generate squares from 0 to 9"
   ]
  },
  {
   "cell_type": "code",
   "execution_count": null,
   "metadata": {},
   "outputs": [
    {
     "name": "stdout",
     "output_type": "stream",
     "text": [
      "[0, 1, 4, 9, 16, 25, 36, 49, 64, 81]\n"
     ]
    }
   ],
   "source": [
    "squares = [x**2 for x in range(10)]\n",
    "print (squares)"
   ]
  },
  {
   "cell_type": "markdown",
   "metadata": {},
   "source": [
    "#### 🔍 6. Real-Life Example\n",
    "📌 Filter out valid emails:"
   ]
  },
  {
   "cell_type": "code",
   "execution_count": null,
   "metadata": {},
   "outputs": [
    {
     "name": "stdout",
     "output_type": "stream",
     "text": [
      "['alice@example.com', 'charlie@gmail.com']\n"
     ]
    }
   ],
   "source": [
    "emails = [\"alice@example.com\", \"bob@\", \"charlie@gmail.com\"]\n",
    "valid_email = [e for e in emails if \"@\" and '.' in e]\n",
    "\n",
    "print(valid_email)"
   ]
  },
  {
   "cell_type": "markdown",
   "metadata": {},
   "source": [
    "# Exercises"
   ]
  },
  {
   "cell_type": "markdown",
   "metadata": {},
   "source": [
    "#### 🧪 Exercise 1: Double the Numbers\n"
   ]
  },
  {
   "cell_type": "code",
   "execution_count": null,
   "metadata": {},
   "outputs": [
    {
     "name": "stdout",
     "output_type": "stream",
     "text": [
      "[2, 6, 10, 14, 18]\n"
     ]
    }
   ],
   "source": [
    "nums = [1, 3, 5, 7, 9]\n",
    "# 👉 Your Code:\n",
    "\n",
    "double = [x*2 for x in nums]\n",
    "print(double)"
   ]
  },
  {
   "cell_type": "markdown",
   "metadata": {},
   "source": [
    "#### 🧪 Exercise 2: Filter Positive Numbers\n",
    "Problem:\\\n",
    "From this list, create a new list containing only the positive numbers."
   ]
  },
  {
   "cell_type": "code",
   "execution_count": null,
   "metadata": {},
   "outputs": [
    {
     "name": "stdout",
     "output_type": "stream",
     "text": [
      "[2, 5]\n"
     ]
    }
   ],
   "source": [
    "nums = [-4, -1, 0, 2, 5, -6]\n",
    "# 👉 Your Code:\n",
    "\n",
    "pos = [x for x in nums if x > 0]\n",
    "print (pos)"
   ]
  },
  {
   "cell_type": "markdown",
   "metadata": {},
   "source": [
    "#### 🧪 Exercise 3: Even or Odd Labels\n",
    "Problem:\\\n",
    "Create a list that labels each number as \"Even\" or \"Odd\"."
   ]
  },
  {
   "cell_type": "code",
   "execution_count": null,
   "metadata": {},
   "outputs": [
    {
     "name": "stdout",
     "output_type": "stream",
     "text": [
      "['odd', 'Even', 'odd', 'Even', 'odd', 'Even']\n"
     ]
    }
   ],
   "source": [
    "nums = [1, 2, 3, 4, 5]\n",
    "# 👉 Your Code:\n",
    "\n",
    "label = [\"Even\" if x%2==0 else \"odd\" for x in numbers]\n",
    "print(label)"
   ]
  },
  {
   "cell_type": "markdown",
   "metadata": {},
   "source": [
    "#### 🧪 Exercise 4: Square Only Even Numbers\n",
    "Problem:\\\n",
    "Create a list of the squares of even numbers only."
   ]
  },
  {
   "cell_type": "code",
   "execution_count": null,
   "metadata": {},
   "outputs": [
    {
     "name": "stdout",
     "output_type": "stream",
     "text": [
      "[4, 16, 36]\n"
     ]
    }
   ],
   "source": [
    "nums = [1, 2, 3, 4, 5, 6]\n",
    "# 👉 Your Code:\n",
    "\n",
    "square = [x**2 for x in nums if x%2==0] \n",
    "print(square)"
   ]
  },
  {
   "cell_type": "markdown",
   "metadata": {},
   "source": [
    "#### 🧪 Exercise 5: Flatten a 2D List\n",
    "Problem:\\\n",
    "Flatten this list of lists into a single list using list comprehension."
   ]
  },
  {
   "cell_type": "code",
   "execution_count": null,
   "metadata": {},
   "outputs": [
    {
     "name": "stdout",
     "output_type": "stream",
     "text": [
      "[1, 2, 3, 4, 5, 6]\n"
     ]
    }
   ],
   "source": [
    "matrix = [[1, 2], [3, 4], [5, 6]]\n",
    "# 👉 Your Code:\n",
    "\n",
    "flattened = [num for row in matrix for num in row]\n",
    "print(flattened)  # Output: [1, 2, 3, 4, 5, 6]\n"
   ]
  },
  {
   "cell_type": "markdown",
   "metadata": {},
   "source": [
    "✅ Summary:\\\n",
    "Expression\tMeaning\\\n",
    "[x for x in list]\tCopy a list\\\n",
    "[x*2 for x in list]\tModify each item\\\n",
    "[x for x in list if x > 0]\tFilter items\\\n",
    "[\"Yes\" if x else \"No\" for x in a]\tConditional logic in list comprehension\\"
   ]
  },
  {
   "cell_type": "code",
   "execution_count": null,
   "metadata": {},
   "outputs": [],
   "source": []
  },
  {
   "cell_type": "code",
   "execution_count": null,
   "metadata": {},
   "outputs": [],
   "source": []
  },
  {
   "cell_type": "code",
   "execution_count": null,
   "metadata": {},
   "outputs": [
    {
     "name": "stdout",
     "output_type": "stream",
     "text": [
      "['odd', 'even', 'odd', 'even', 'odd', 'even']\n"
     ]
    }
   ],
   "source": [
    "# 2. Label numbers as \"Even\" or \"Odd\"\n",
    "label = ['even' if x%2==0 else 'odd' for x in numbers]\n",
    "print(label)"
   ]
  },
  {
   "cell_type": "markdown",
   "metadata": {},
   "source": [
    "#### 🔹 4. Nested Loops in List Comprehension\n",
    "[expression for x in list1 for y in list2] \\\n",
    "Combine two lists into all pairs\n"
   ]
  },
  {
   "cell_type": "code",
   "execution_count": null,
   "metadata": {},
   "outputs": [
    {
     "name": "stdout",
     "output_type": "stream",
     "text": [
      "[('red', 'pen'), ('red', 'notebook'), ('blue', 'pen'), ('blue', 'notebook')]\n"
     ]
    }
   ],
   "source": [
    "colors = ['red', 'blue']\n",
    "items = ['pen', 'notebook']\n",
    "\n",
    "new = [(c,i) for c in colors for i in items]\n",
    "\n",
    "print(new)"
   ]
  },
  {
   "cell_type": "markdown",
   "metadata": {},
   "source": [
    "#### 🔹 5. List Comprehension with range()\n",
    "Generate squares from 0 to 9"
   ]
  },
  {
   "cell_type": "code",
   "execution_count": null,
   "metadata": {},
   "outputs": [
    {
     "name": "stdout",
     "output_type": "stream",
     "text": [
      "[0, 1, 4, 9, 16, 25, 36, 49, 64, 81]\n"
     ]
    }
   ],
   "source": [
    "squares = [x**2 for x in range(10)]\n",
    "print (squares)"
   ]
  },
  {
   "cell_type": "markdown",
   "metadata": {},
   "source": [
    "#### 🔍 6. Real-Life Example\n",
    "📌 Filter out valid emails:"
   ]
  },
  {
   "cell_type": "code",
   "execution_count": null,
   "metadata": {},
   "outputs": [
    {
     "name": "stdout",
     "output_type": "stream",
     "text": [
      "['alice@example.com', 'charlie@gmail.com']\n"
     ]
    }
   ],
   "source": [
    "emails = [\"alice@example.com\", \"bob@\", \"charlie@gmail.com\"]\n",
    "valid_email = [e for e in emails if \"@\" and '.' in e]\n",
    "\n",
    "print(valid_email)"
   ]
  },
  {
   "cell_type": "markdown",
   "metadata": {},
   "source": [
    "# Exercises"
   ]
  },
  {
   "cell_type": "markdown",
   "metadata": {},
   "source": [
    "#### 🧪 Exercise 1: Double the Numbers\n"
   ]
  },
  {
   "cell_type": "code",
   "execution_count": null,
   "metadata": {},
   "outputs": [
    {
     "name": "stdout",
     "output_type": "stream",
     "text": [
      "[2, 6, 10, 14, 18]\n"
     ]
    }
   ],
   "source": [
    "nums = [1, 3, 5, 7, 9]\n",
    "# 👉 Your Code:\n",
    "\n",
    "double = [x*2 for x in nums]\n",
    "print(double)"
   ]
  },
  {
   "cell_type": "markdown",
   "metadata": {},
   "source": [
    "#### 🧪 Exercise 2: Filter Positive Numbers\n",
    "Problem:\\\n",
    "From this list, create a new list containing only the positive numbers."
   ]
  },
  {
   "cell_type": "code",
   "execution_count": null,
   "metadata": {},
   "outputs": [
    {
     "name": "stdout",
     "output_type": "stream",
     "text": [
      "[2, 5]\n"
     ]
    }
   ],
   "source": [
    "nums = [-4, -1, 0, 2, 5, -6]\n",
    "# 👉 Your Code:\n",
    "\n",
    "pos = [x for x in nums if x > 0]\n",
    "print (pos)"
   ]
  },
  {
   "cell_type": "markdown",
   "metadata": {},
   "source": [
    "#### 🧪 Exercise 3: Even or Odd Labels\n",
    "Problem:\\\n",
    "Create a list that labels each number as \"Even\" or \"Odd\"."
   ]
  },
  {
   "cell_type": "code",
   "execution_count": null,
   "metadata": {},
   "outputs": [
    {
     "name": "stdout",
     "output_type": "stream",
     "text": [
      "['odd', 'Even', 'odd', 'Even', 'odd', 'Even']\n"
     ]
    }
   ],
   "source": [
    "nums = [1, 2, 3, 4, 5]\n",
    "# 👉 Your Code:\n",
    "\n",
    "label = [\"Even\" if x%2==0 else \"odd\" for x in numbers]\n",
    "print(label)"
   ]
  },
  {
   "cell_type": "markdown",
   "metadata": {},
   "source": [
    "#### 🧪 Exercise 4: Square Only Even Numbers\n",
    "Problem:\\\n",
    "Create a list of the squares of even numbers only."
   ]
  },
  {
   "cell_type": "code",
   "execution_count": null,
   "metadata": {},
   "outputs": [
    {
     "name": "stdout",
     "output_type": "stream",
     "text": [
      "[4, 16, 36]\n"
     ]
    }
   ],
   "source": [
    "nums = [1, 2, 3, 4, 5, 6]\n",
    "# 👉 Your Code:\n",
    "\n",
    "square = [x**2 for x in nums if x%2==0] \n",
    "print(square)"
   ]
  },
  {
   "cell_type": "markdown",
   "metadata": {},
   "source": [
    "#### 🧪 Exercise 5: Flatten a 2D List\n",
    "Problem:\\\n",
    "Flatten this list of lists into a single list using list comprehension."
   ]
  },
  {
   "cell_type": "code",
   "execution_count": null,
   "metadata": {},
   "outputs": [
    {
     "name": "stdout",
     "output_type": "stream",
     "text": [
      "[1, 2, 3, 4, 5, 6]\n"
     ]
    }
   ],
   "source": [
    "matrix = [[1, 2], [3, 4], [5, 6]]\n",
    "# 👉 Your Code:\n",
    "\n",
    "flattened = [num for row in matrix for num in row]\n",
    "print(flattened)  # Output: [1, 2, 3, 4, 5, 6]\n"
   ]
  },
  {
   "cell_type": "markdown",
   "metadata": {},
   "source": [
    "✅ Summary:\\\n",
    "Expression\tMeaning\\\n",
    "[x for x in list]\tCopy a list\\\n",
    "[x*2 for x in list]\tModify each item\\\n",
    "[x for x in list if x > 0]\tFilter items\\\n",
    "[\"Yes\" if x else \"No\" for x in a]\tConditional logic in list comprehension\\"
   ]
  },
  {
   "cell_type": "code",
   "execution_count": null,
   "metadata": {},
   "outputs": [],
   "source": []
  },
  {
   "cell_type": "code",
   "execution_count": null,
   "metadata": {},
   "outputs": [],
   "source": []
  },
  {
   "cell_type": "code",
   "execution_count": null,
   "metadata": {},
   "outputs": [],
   "source": []
  }
 ],
 "metadata": {
  "kernelspec": {
   "display_name": "Python 3",
   "language": "python",
   "name": "python3"
  },
  "language_info": {
   "codemirror_mode": {
    "name": "ipython",
    "version": 3
   },
   "file_extension": ".py",
   "mimetype": "text/x-python",
   "name": "python",
   "nbconvert_exporter": "python",
   "pygments_lexer": "ipython3",
   "version": "3.12.2"
  }
 },
 "nbformat": 4,
 "nbformat_minor": 2
}
