{
 "cells": [
  {
   "cell_type": "markdown",
   "metadata": {},
   "source": [
    "# List Comprehension"
   ]
  },
  {
   "cell_type": "code",
   "execution_count": 1,
   "metadata": {},
   "outputs": [
    {
     "ename": "SyntaxError",
     "evalue": "invalid character '📌' (U+1F4CC) (4145910812.py, line 26)",
     "output_type": "error",
     "traceback": [
      "\u001b[1;36m  Cell \u001b[1;32mIn[1], line 26\u001b[1;36m\u001b[0m\n\u001b[1;33m    📌 Filter out valid emails:\u001b[0m\n\u001b[1;37m    ^\u001b[0m\n\u001b[1;31mSyntaxError\u001b[0m\u001b[1;31m:\u001b[0m invalid character '📌' (U+1F4CC)\n"
     ]
    }
   ],
   "source": [
    "# 1.  Get even numbers only\n",
    "numbers = [1, 2, 3, 4, 5, 6]\n",
    "y=1\n",
    "\n",
    "even = [x for x in numbers if x%2==0]\n",
    "\n",
    "print(even)\n",
    "# 2. Label numbers as \"Even\" or \"Odd\"\n",
    "label = ['even' if x%2==0 else 'odd' for x in numbers]\n",
    "print(label)\n",
    "#### 🔹 4. Nested Loops in List Comprehension\n",
    "[expression for x in list1 for y in list2] \\\n",
    "Combine two lists into all pairs\n",
    "\n",
    "colors = ['red', 'blue']\n",
    "items = ['pen', 'notebook']\n",
    "\n",
    "new = [(c,i) for c in colors for i in items]\n",
    "\n",
    "print(new)\n",
    "#### 🔹 5. List Comprehension with range()\n",
    "Generate squares from 0 to 9\n",
    "squares = [x**2 for x in range(10)]\n",
    "print (squares)\n",
    "#### 🔍 6. Real-Life Example\n",
    "📌 Filter out valid emails:\n",
    "emails = [\"alice@example.com\", \"bob@\", \"charlie@gmail.com\"]\n",
    "valid_email = [e for e in emails if \"@\" and '.' in e]\n",
    "\n",
    "print(valid_email)\n",
    "# Exercises\n",
    "#### 🧪 Exercise 1: Double the Numbers\n",
    "\n",
    "nums = [1, 3, 5, 7, 9]\n",
    "# 👉 Your Code:\n",
    "\n",
    "double = [x*2 for x in nums]\n",
    "print(double)\n",
    "#### 🧪 Exercise 2: Filter Positive Numbers\n",
    "Problem:\\\n",
    "From this list, create a new list containing only the positive numbers.\n",
    "nums = [-4, -1, 0, 2, 5, -6]\n",
    "# 👉 Your Code:\n",
    "\n",
    "pos = [x for x in nums if x > 0]\n",
    "print (pos)\n",
    "#### 🧪 Exercise 3: Even or Odd Labels\n",
    "Problem:\\\n",
    "Create a list that labels each number as \"Even\" or \"Odd\".\n",
    "nums = [1, 2, 3, 4, 5]\n",
    "# 👉 Your Code:\n",
    "\n",
    "label = [\"Even\" if x%2==0 else \"odd\" for x in numbers]\n",
    "print(label)\n",
    "#### 🧪 Exercise 4: Square Only Even Numbers\n",
    "Problem:\\\n",
    "Create a list of the squares of even numbers only.\n",
    "nums = [1, 2, 3, 4, 5, 6]\n",
    "# 👉 Your Code:\n",
    "\n",
    "square = [x**2 for x in nums if x%2==0] \n",
    "print(square)\n",
    "#### 🧪 Exercise 5: Flatten a 2D List\n",
    "Problem:\\\n",
    "Flatten this list of lists into a single list using list comprehension.\n",
    "matrix = [[1, 2], [3, 4], [5, 6]]\n",
    "# 👉 Your Code:\n",
    "\n",
    "flattened = [num for row in matrix for num in row]\n",
    "print(flattened)  # Output: [1, 2, 3, 4, 5, 6]\n",
    "\n",
    "✅ Summary:\\\n",
    "Expression\tMeaning\\\n",
    "[x for x in list]\tCopy a list\\\n",
    "[x*2 for x in list]\tModify each item\\\n",
    "[x for x in list if x > 0]\tFilter items\\\n",
    "[\"Yes\" if x else \"No\" for x in a]\tConditional logic in list comprehension\\\n",
    "\n"
   ]
  },
  {
   "cell_type": "code",
   "execution_count": null,
   "metadata": {},
   "outputs": [],
   "source": []
  }
 ],
 "metadata": {
  "kernelspec": {
   "display_name": "Python 3",
   "language": "python",
   "name": "python3"
  },
  "language_info": {
   "codemirror_mode": {
    "name": "ipython",
    "version": 3
   },
   "file_extension": ".py",
   "mimetype": "text/x-python",
   "name": "python",
   "nbconvert_exporter": "python",
   "pygments_lexer": "ipython3",
   "version": "3.12.2"
  }
 },
 "nbformat": 4,
 "nbformat_minor": 2
}
